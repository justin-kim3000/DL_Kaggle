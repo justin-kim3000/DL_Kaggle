{
 "cells": [
  {
   "cell_type": "code",
   "execution_count": 1,
   "metadata": {
    "execution": {
     "iopub.execute_input": "2023-03-21T01:26:58.273260Z",
     "iopub.status.busy": "2023-03-21T01:26:58.272866Z",
     "iopub.status.idle": "2023-03-21T01:27:01.351901Z",
     "shell.execute_reply": "2023-03-21T01:27:01.350872Z",
     "shell.execute_reply.started": "2023-03-21T01:26:58.273165Z"
    },
    "papermill": {
     "duration": 2.466543,
     "end_time": "2021-09-11T07:45:04.611911",
     "exception": false,
     "start_time": "2021-09-11T07:45:02.145368",
     "status": "completed"
    },
    "tags": []
   },
   "outputs": [],
   "source": [
    "import numpy as np\n",
    "import pandas as pd\n",
    "import warnings\n",
    "\n",
    "warnings.filterwarnings(action='ignore') # 경고 문구 생략\n",
    "\n",
    "# 데이터 경로\n",
    "data_path = 'data/'\n",
    "\n",
    "sales_train = pd.read_csv(data_path + 'sales_train.csv')\n",
    "shops = pd.read_csv(data_path + 'shops.csv')\n",
    "items = pd.read_csv(data_path + 'items.csv')\n",
    "item_categories = pd.read_csv(data_path + 'item_categories.csv')\n",
    "test = pd.read_csv(data_path + 'test.csv')\n",
    "submission = pd.read_csv(data_path + 'sample_submission.csv')"
   ]
  },
  {
   "cell_type": "markdown",
   "metadata": {
    "papermill": {
     "duration": 0.022721,
     "end_time": "2021-09-11T07:45:04.663102",
     "exception": false,
     "start_time": "2021-09-11T07:45:04.640381",
     "status": "completed"
    },
    "tags": []
   },
   "source": [
    "### 피처명 한글화"
   ]
  },
  {
   "cell_type": "code",
   "execution_count": 2,
   "metadata": {
    "execution": {
     "iopub.execute_input": "2023-03-21T01:27:01.354099Z",
     "iopub.status.busy": "2023-03-21T01:27:01.353756Z",
     "iopub.status.idle": "2023-03-21T01:27:01.471281Z",
     "shell.execute_reply": "2023-03-21T01:27:01.470343Z",
     "shell.execute_reply.started": "2023-03-21T01:27:01.354057Z"
    },
    "papermill": {
     "duration": 0.124405,
     "end_time": "2021-09-11T07:45:04.813704",
     "exception": false,
     "start_time": "2021-09-11T07:45:04.689299",
     "status": "completed"
    },
    "tags": []
   },
   "outputs": [],
   "source": [
    "sales_train = sales_train.rename(columns={'date': '날짜', \n",
    "                                          'date_block_num': '월ID',\n",
    "                                          'shop_id': '상점ID',\n",
    "                                          'item_id': '상품ID',\n",
    "                                          'item_price': '판매가(루블)',\n",
    "                                          'item_cnt_day': '일_판매량'})\n",
    "shops = shops.rename(columns={'shop_name': '상점명',\n",
    "                              'shop_id': '상점ID'})\n",
    "items = items.rename(columns={'item_name': '상품명',\n",
    "                              'item_id': '상품ID',\n",
    "                              'item_category_id': '상품분류ID'})\n",
    "item_categories = item_categories.rename(columns=\n",
    "                                         {'item_category_name': '상품분류명',\n",
    "                                          'item_category_id': '상품분류ID'})\n",
    "test = test.rename(columns={'shop_id': '상점ID',\n",
    "                            'item_id': '상품ID'})"
   ]
  },
  {
   "cell_type": "markdown",
   "metadata": {
    "papermill": {
     "duration": 0.02003,
     "end_time": "2021-09-11T07:45:05.065086",
     "exception": false,
     "start_time": "2021-09-11T07:45:05.045056",
     "status": "completed"
    },
    "tags": []
   },
   "source": [
    "### 데이터 다운캐스팅"
   ]
  },
  {
   "cell_type": "code",
   "execution_count": null,
   "metadata": {},
   "outputs": [],
   "source": []
  },
  {
   "cell_type": "code",
   "execution_count": 3,
   "metadata": {},
   "outputs": [
    {
     "data": {
      "text/html": [
       "<div>\n",
       "<style scoped>\n",
       "    .dataframe tbody tr th:only-of-type {\n",
       "        vertical-align: middle;\n",
       "    }\n",
       "\n",
       "    .dataframe tbody tr th {\n",
       "        vertical-align: top;\n",
       "    }\n",
       "\n",
       "    .dataframe thead th {\n",
       "        text-align: right;\n",
       "    }\n",
       "</style>\n",
       "<table border=\"1\" class=\"dataframe\">\n",
       "  <thead>\n",
       "    <tr style=\"text-align: right;\">\n",
       "      <th></th>\n",
       "      <th>날짜</th>\n",
       "      <th>월ID</th>\n",
       "      <th>상점ID</th>\n",
       "      <th>상품ID</th>\n",
       "      <th>판매가(루블)</th>\n",
       "      <th>일_판매량</th>\n",
       "    </tr>\n",
       "  </thead>\n",
       "  <tbody>\n",
       "    <tr>\n",
       "      <th>0</th>\n",
       "      <td>02.01.2013</td>\n",
       "      <td>0</td>\n",
       "      <td>59</td>\n",
       "      <td>22154</td>\n",
       "      <td>999.00</td>\n",
       "      <td>1.0</td>\n",
       "    </tr>\n",
       "    <tr>\n",
       "      <th>1</th>\n",
       "      <td>03.01.2013</td>\n",
       "      <td>0</td>\n",
       "      <td>25</td>\n",
       "      <td>2552</td>\n",
       "      <td>899.00</td>\n",
       "      <td>1.0</td>\n",
       "    </tr>\n",
       "    <tr>\n",
       "      <th>2</th>\n",
       "      <td>05.01.2013</td>\n",
       "      <td>0</td>\n",
       "      <td>25</td>\n",
       "      <td>2552</td>\n",
       "      <td>899.00</td>\n",
       "      <td>-1.0</td>\n",
       "    </tr>\n",
       "    <tr>\n",
       "      <th>3</th>\n",
       "      <td>06.01.2013</td>\n",
       "      <td>0</td>\n",
       "      <td>25</td>\n",
       "      <td>2554</td>\n",
       "      <td>1709.05</td>\n",
       "      <td>1.0</td>\n",
       "    </tr>\n",
       "    <tr>\n",
       "      <th>4</th>\n",
       "      <td>15.01.2013</td>\n",
       "      <td>0</td>\n",
       "      <td>25</td>\n",
       "      <td>2555</td>\n",
       "      <td>1099.00</td>\n",
       "      <td>1.0</td>\n",
       "    </tr>\n",
       "    <tr>\n",
       "      <th>...</th>\n",
       "      <td>...</td>\n",
       "      <td>...</td>\n",
       "      <td>...</td>\n",
       "      <td>...</td>\n",
       "      <td>...</td>\n",
       "      <td>...</td>\n",
       "    </tr>\n",
       "    <tr>\n",
       "      <th>2935844</th>\n",
       "      <td>10.10.2015</td>\n",
       "      <td>33</td>\n",
       "      <td>25</td>\n",
       "      <td>7409</td>\n",
       "      <td>299.00</td>\n",
       "      <td>1.0</td>\n",
       "    </tr>\n",
       "    <tr>\n",
       "      <th>2935845</th>\n",
       "      <td>09.10.2015</td>\n",
       "      <td>33</td>\n",
       "      <td>25</td>\n",
       "      <td>7460</td>\n",
       "      <td>299.00</td>\n",
       "      <td>1.0</td>\n",
       "    </tr>\n",
       "    <tr>\n",
       "      <th>2935846</th>\n",
       "      <td>14.10.2015</td>\n",
       "      <td>33</td>\n",
       "      <td>25</td>\n",
       "      <td>7459</td>\n",
       "      <td>349.00</td>\n",
       "      <td>1.0</td>\n",
       "    </tr>\n",
       "    <tr>\n",
       "      <th>2935847</th>\n",
       "      <td>22.10.2015</td>\n",
       "      <td>33</td>\n",
       "      <td>25</td>\n",
       "      <td>7440</td>\n",
       "      <td>299.00</td>\n",
       "      <td>1.0</td>\n",
       "    </tr>\n",
       "    <tr>\n",
       "      <th>2935848</th>\n",
       "      <td>03.10.2015</td>\n",
       "      <td>33</td>\n",
       "      <td>25</td>\n",
       "      <td>7460</td>\n",
       "      <td>299.00</td>\n",
       "      <td>1.0</td>\n",
       "    </tr>\n",
       "  </tbody>\n",
       "</table>\n",
       "<p>2935849 rows × 6 columns</p>\n",
       "</div>"
      ],
      "text/plain": [
       "                 날짜  월ID  상점ID   상품ID  판매가(루블)  일_판매량\n",
       "0        02.01.2013    0    59  22154   999.00    1.0\n",
       "1        03.01.2013    0    25   2552   899.00    1.0\n",
       "2        05.01.2013    0    25   2552   899.00   -1.0\n",
       "3        06.01.2013    0    25   2554  1709.05    1.0\n",
       "4        15.01.2013    0    25   2555  1099.00    1.0\n",
       "...             ...  ...   ...    ...      ...    ...\n",
       "2935844  10.10.2015   33    25   7409   299.00    1.0\n",
       "2935845  09.10.2015   33    25   7460   299.00    1.0\n",
       "2935846  14.10.2015   33    25   7459   349.00    1.0\n",
       "2935847  22.10.2015   33    25   7440   299.00    1.0\n",
       "2935848  03.10.2015   33    25   7460   299.00    1.0\n",
       "\n",
       "[2935849 rows x 6 columns]"
      ]
     },
     "execution_count": 3,
     "metadata": {},
     "output_type": "execute_result"
    }
   ],
   "source": [
    "sales_train"
   ]
  },
  {
   "cell_type": "code",
   "execution_count": 4,
   "metadata": {},
   "outputs": [],
   "source": [
    "def datatype(df):\n",
    "    type_ = df.dtypes\n",
    "    print(f'type:{type_}')\n",
    "    print()"
   ]
  },
  {
   "cell_type": "code",
   "execution_count": 5,
   "metadata": {},
   "outputs": [
    {
     "name": "stdout",
     "output_type": "stream",
     "text": [
      "type:날짜          object\n",
      "월ID          int64\n",
      "상점ID         int64\n",
      "상품ID         int64\n",
      "판매가(루블)    float64\n",
      "일_판매량      float64\n",
      "dtype: object\n",
      "\n",
      "type:상점명     object\n",
      "상점ID     int64\n",
      "dtype: object\n",
      "\n",
      "type:상품명       object\n",
      "상품ID       int64\n",
      "상품분류ID     int64\n",
      "dtype: object\n",
      "\n",
      "type:상품분류명     object\n",
      "상품분류ID     int64\n",
      "dtype: object\n",
      "\n",
      "type:ID      int64\n",
      "상점ID    int64\n",
      "상품ID    int64\n",
      "dtype: object\n",
      "\n"
     ]
    }
   ],
   "source": [
    "all_df = [sales_train, shops, items, item_categories, test]\n",
    "for df in all_df:\n",
    "    df = datatype(df)"
   ]
  },
  {
   "cell_type": "code",
   "execution_count": 6,
   "metadata": {},
   "outputs": [],
   "source": [
    "def datasize(df):\n",
    "    size = df.memory_usage().sum() / 1024\n",
    "    print(f'size:{size:.2f}KB')\n",
    "    print()"
   ]
  },
  {
   "cell_type": "code",
   "execution_count": 7,
   "metadata": {},
   "outputs": [
    {
     "name": "stdout",
     "output_type": "stream",
     "text": [
      "size:137618.05KB\n",
      "\n",
      "size:1.06KB\n",
      "\n",
      "size:519.73KB\n",
      "\n",
      "size:1.44KB\n",
      "\n",
      "size:5020.44KB\n",
      "\n"
     ]
    }
   ],
   "source": [
    "all_df = [sales_train, shops, items, item_categories, test]\n",
    "for df in all_df:\n",
    "    datasize(df)"
   ]
  },
  {
   "cell_type": "code",
   "execution_count": 8,
   "metadata": {},
   "outputs": [
    {
     "data": {
      "text/plain": [
       "134.3926239013672"
      ]
     },
     "execution_count": 8,
     "metadata": {},
     "output_type": "execute_result"
    }
   ],
   "source": [
    "sales_train.memory_usage().sum() / 1024**2"
   ]
  },
  {
   "cell_type": "code",
   "execution_count": 9,
   "metadata": {
    "execution": {
     "iopub.execute_input": "2023-03-21T01:27:01.542603Z",
     "iopub.status.busy": "2023-03-21T01:27:01.542237Z",
     "iopub.status.idle": "2023-03-21T01:27:01.552265Z",
     "shell.execute_reply": "2023-03-21T01:27:01.551067Z",
     "shell.execute_reply.started": "2023-03-21T01:27:01.542559Z"
    },
    "papermill": {
     "duration": 0.031377,
     "end_time": "2021-09-11T07:45:05.116721",
     "exception": false,
     "start_time": "2021-09-11T07:45:05.085344",
     "status": "completed"
    },
    "tags": []
   },
   "outputs": [],
   "source": [
    "def downcast(df):\n",
    "    before_me = df.memory_usage().sum() / 1024\n",
    "    for col in df.columns:\n",
    "        dtype_name = df[col].dtype.name\n",
    "        # 오브젝트 타입이면 패스\n",
    "        if dtype_name == 'object':\n",
    "            pass\n",
    "        # bool 타입이면 int8\n",
    "        elif dtype_name == 'bool':\n",
    "            df[col] = df[col].astype('int8')\n",
    "        elif dtype_name.startswith('int'):\n",
    "            # to_numeric() -> 숫자로 바꿔줌\n",
    "            # downcast -> 알맞게 사이즈 변경\n",
    "            df[col] = pd.to_numeric(df[col], downcast='integer')\n",
    "        else:\n",
    "            df[col] = pd.to_numeric(df[col], downcast='float')\n",
    "    after_me = df.memory_usage().sum() / 1024\n",
    "    print('{:.2f}% 압축!'.format(100 * (before_me - after_me) / before_me))\n",
    "    \n",
    "    return df"
   ]
  },
  {
   "cell_type": "code",
   "execution_count": 10,
   "metadata": {
    "execution": {
     "iopub.execute_input": "2023-03-21T01:27:01.554029Z",
     "iopub.status.busy": "2023-03-21T01:27:01.553603Z",
     "iopub.status.idle": "2023-03-21T01:27:01.959681Z",
     "shell.execute_reply": "2023-03-21T01:27:01.959022Z",
     "shell.execute_reply.started": "2023-03-21T01:27:01.553977Z"
    },
    "papermill": {
     "duration": 0.383259,
     "end_time": "2021-09-11T07:45:05.520116",
     "exception": false,
     "start_time": "2021-09-11T07:45:05.136857",
     "status": "completed"
    },
    "tags": []
   },
   "outputs": [
    {
     "name": "stdout",
     "output_type": "stream",
     "text": [
      "50.00% 압축!\n",
      "38.60% 압축!\n",
      "54.15% 압축!\n",
      "39.95% 압축!\n",
      "70.83% 압축!\n"
     ]
    }
   ],
   "source": [
    "all_df = [sales_train, shops, items, item_categories, test]\n",
    "for df in all_df:\n",
    "    df = downcast(df)"
   ]
  },
  {
   "cell_type": "code",
   "execution_count": 11,
   "metadata": {},
   "outputs": [
    {
     "name": "stdout",
     "output_type": "stream",
     "text": [
      "size:68809.09KB\n",
      "\n",
      "size:0.65KB\n",
      "\n",
      "size:238.28KB\n",
      "\n",
      "size:0.86KB\n",
      "\n",
      "size:1464.38KB\n",
      "\n"
     ]
    }
   ],
   "source": [
    "all_df = [sales_train, shops, items, item_categories, test]\n",
    "for df in all_df:\n",
    "    datasize(df)"
   ]
  },
  {
   "cell_type": "markdown",
   "metadata": {
    "papermill": {
     "duration": 0.020192,
     "end_time": "2021-09-11T07:45:05.561575",
     "exception": false,
     "start_time": "2021-09-11T07:45:05.541383",
     "status": "completed"
    },
    "tags": []
   },
   "source": [
    "### 데이터 조합 생성"
   ]
  },
  {
   "cell_type": "code",
   "execution_count": 12,
   "metadata": {},
   "outputs": [
    {
     "data": {
      "text/plain": [
       "array([ 0,  1,  2,  3,  4,  5,  6,  7,  8,  9, 10, 11, 12, 13, 14, 15, 16,\n",
       "       17, 18, 19, 20, 21, 22, 23, 24, 25, 26, 27, 28, 29, 30, 31, 32, 33],\n",
       "      dtype=int8)"
      ]
     },
     "execution_count": 12,
     "metadata": {},
     "output_type": "execute_result"
    }
   ],
   "source": [
    "sales_train['월ID'].unique()"
   ]
  },
  {
   "cell_type": "code",
   "execution_count": 13,
   "metadata": {},
   "outputs": [
    {
     "data": {
      "text/html": [
       "<div>\n",
       "<style scoped>\n",
       "    .dataframe tbody tr th:only-of-type {\n",
       "        vertical-align: middle;\n",
       "    }\n",
       "\n",
       "    .dataframe tbody tr th {\n",
       "        vertical-align: top;\n",
       "    }\n",
       "\n",
       "    .dataframe thead th {\n",
       "        text-align: right;\n",
       "    }\n",
       "</style>\n",
       "<table border=\"1\" class=\"dataframe\">\n",
       "  <thead>\n",
       "    <tr style=\"text-align: right;\">\n",
       "      <th></th>\n",
       "      <th>날짜</th>\n",
       "      <th>월ID</th>\n",
       "      <th>상점ID</th>\n",
       "      <th>상품ID</th>\n",
       "      <th>판매가(루블)</th>\n",
       "      <th>일_판매량</th>\n",
       "    </tr>\n",
       "  </thead>\n",
       "  <tbody>\n",
       "    <tr>\n",
       "      <th>0</th>\n",
       "      <td>02.01.2013</td>\n",
       "      <td>0</td>\n",
       "      <td>59</td>\n",
       "      <td>22154</td>\n",
       "      <td>999.00</td>\n",
       "      <td>1.0</td>\n",
       "    </tr>\n",
       "    <tr>\n",
       "      <th>1</th>\n",
       "      <td>03.01.2013</td>\n",
       "      <td>0</td>\n",
       "      <td>25</td>\n",
       "      <td>2552</td>\n",
       "      <td>899.00</td>\n",
       "      <td>1.0</td>\n",
       "    </tr>\n",
       "    <tr>\n",
       "      <th>2</th>\n",
       "      <td>05.01.2013</td>\n",
       "      <td>0</td>\n",
       "      <td>25</td>\n",
       "      <td>2552</td>\n",
       "      <td>899.00</td>\n",
       "      <td>-1.0</td>\n",
       "    </tr>\n",
       "    <tr>\n",
       "      <th>3</th>\n",
       "      <td>06.01.2013</td>\n",
       "      <td>0</td>\n",
       "      <td>25</td>\n",
       "      <td>2554</td>\n",
       "      <td>1709.05</td>\n",
       "      <td>1.0</td>\n",
       "    </tr>\n",
       "    <tr>\n",
       "      <th>4</th>\n",
       "      <td>15.01.2013</td>\n",
       "      <td>0</td>\n",
       "      <td>25</td>\n",
       "      <td>2555</td>\n",
       "      <td>1099.00</td>\n",
       "      <td>1.0</td>\n",
       "    </tr>\n",
       "  </tbody>\n",
       "</table>\n",
       "</div>"
      ],
      "text/plain": [
       "           날짜  월ID  상점ID   상품ID  판매가(루블)  일_판매량\n",
       "0  02.01.2013    0    59  22154   999.00    1.0\n",
       "1  03.01.2013    0    25   2552   899.00    1.0\n",
       "2  05.01.2013    0    25   2552   899.00   -1.0\n",
       "3  06.01.2013    0    25   2554  1709.05    1.0\n",
       "4  15.01.2013    0    25   2555  1099.00    1.0"
      ]
     },
     "execution_count": 13,
     "metadata": {},
     "output_type": "execute_result"
    }
   ],
   "source": [
    "sales_train.head()"
   ]
  },
  {
   "cell_type": "code",
   "execution_count": 14,
   "metadata": {},
   "outputs": [
    {
     "data": {
      "text/plain": [
       "array([59, 25, 24, 23, 19, 22, 18, 21, 28, 27, 29, 26,  4,  6,  2,  3,  7,\n",
       "        0,  1, 16, 15,  8, 10, 14, 13, 12, 53, 31, 30, 32, 35, 56, 54, 47,\n",
       "       50, 42, 43, 52, 51, 41, 38, 44, 37, 46, 45], dtype=int8)"
      ]
     },
     "execution_count": 14,
     "metadata": {},
     "output_type": "execute_result"
    }
   ],
   "source": [
    "sales_train.loc[sales_train['월ID']==0, '상점ID'].unique()"
   ]
  },
  {
   "cell_type": "code",
   "execution_count": 15,
   "metadata": {},
   "outputs": [
    {
     "data": {
      "text/html": [
       "<div>\n",
       "<style scoped>\n",
       "    .dataframe tbody tr th:only-of-type {\n",
       "        vertical-align: middle;\n",
       "    }\n",
       "\n",
       "    .dataframe tbody tr th {\n",
       "        vertical-align: top;\n",
       "    }\n",
       "\n",
       "    .dataframe thead th {\n",
       "        text-align: right;\n",
       "    }\n",
       "</style>\n",
       "<table border=\"1\" class=\"dataframe\">\n",
       "  <thead>\n",
       "    <tr style=\"text-align: right;\">\n",
       "      <th></th>\n",
       "      <th>count</th>\n",
       "      <th>mean</th>\n",
       "      <th>std</th>\n",
       "      <th>min</th>\n",
       "      <th>25%</th>\n",
       "      <th>50%</th>\n",
       "      <th>75%</th>\n",
       "      <th>max</th>\n",
       "    </tr>\n",
       "  </thead>\n",
       "  <tbody>\n",
       "    <tr>\n",
       "      <th>월ID</th>\n",
       "      <td>2935849.0</td>\n",
       "      <td>14.569911</td>\n",
       "      <td>9.422988</td>\n",
       "      <td>0.0</td>\n",
       "      <td>7.0</td>\n",
       "      <td>14.0</td>\n",
       "      <td>23.0</td>\n",
       "      <td>33.0</td>\n",
       "    </tr>\n",
       "    <tr>\n",
       "      <th>상점ID</th>\n",
       "      <td>2935849.0</td>\n",
       "      <td>33.001728</td>\n",
       "      <td>16.226973</td>\n",
       "      <td>0.0</td>\n",
       "      <td>22.0</td>\n",
       "      <td>31.0</td>\n",
       "      <td>47.0</td>\n",
       "      <td>59.0</td>\n",
       "    </tr>\n",
       "    <tr>\n",
       "      <th>상품ID</th>\n",
       "      <td>2935849.0</td>\n",
       "      <td>10197.227057</td>\n",
       "      <td>6324.297354</td>\n",
       "      <td>0.0</td>\n",
       "      <td>4476.0</td>\n",
       "      <td>9343.0</td>\n",
       "      <td>15684.0</td>\n",
       "      <td>22169.0</td>\n",
       "    </tr>\n",
       "    <tr>\n",
       "      <th>판매가(루블)</th>\n",
       "      <td>2935849.0</td>\n",
       "      <td>890.853233</td>\n",
       "      <td>1729.799631</td>\n",
       "      <td>-1.0</td>\n",
       "      <td>249.0</td>\n",
       "      <td>399.0</td>\n",
       "      <td>999.0</td>\n",
       "      <td>307980.0</td>\n",
       "    </tr>\n",
       "    <tr>\n",
       "      <th>일_판매량</th>\n",
       "      <td>2935849.0</td>\n",
       "      <td>1.242641</td>\n",
       "      <td>2.612213</td>\n",
       "      <td>-22.0</td>\n",
       "      <td>1.0</td>\n",
       "      <td>1.0</td>\n",
       "      <td>1.0</td>\n",
       "      <td>2169.0</td>\n",
       "    </tr>\n",
       "  </tbody>\n",
       "</table>\n",
       "</div>"
      ],
      "text/plain": [
       "             count          mean          std   min     25%     50%      75%  \\\n",
       "월ID      2935849.0     14.569911     9.422988   0.0     7.0    14.0     23.0   \n",
       "상점ID     2935849.0     33.001728    16.226973   0.0    22.0    31.0     47.0   \n",
       "상품ID     2935849.0  10197.227057  6324.297354   0.0  4476.0  9343.0  15684.0   \n",
       "판매가(루블)  2935849.0    890.853233  1729.799631  -1.0   249.0   399.0    999.0   \n",
       "일_판매량    2935849.0      1.242641     2.612213 -22.0     1.0     1.0      1.0   \n",
       "\n",
       "              max  \n",
       "월ID          33.0  \n",
       "상점ID         59.0  \n",
       "상품ID      22169.0  \n",
       "판매가(루블)  307980.0  \n",
       "일_판매량      2169.0  "
      ]
     },
     "execution_count": 15,
     "metadata": {},
     "output_type": "execute_result"
    }
   ],
   "source": [
    "sales_train.describe().T"
   ]
  },
  {
   "cell_type": "code",
   "execution_count": 16,
   "metadata": {
    "execution": {
     "iopub.execute_input": "2023-03-21T01:27:01.961352Z",
     "iopub.status.busy": "2023-03-21T01:27:01.961116Z",
     "iopub.status.idle": "2023-03-21T01:27:14.822334Z",
     "shell.execute_reply": "2023-03-21T01:27:14.821452Z",
     "shell.execute_reply.started": "2023-03-21T01:27:01.961317Z"
    },
    "papermill": {
     "duration": 12.436747,
     "end_time": "2021-09-11T07:45:18.059107",
     "exception": false,
     "start_time": "2021-09-11T07:45:05.62236",
     "status": "completed"
    },
    "tags": []
   },
   "outputs": [
    {
     "data": {
      "text/html": [
       "<div>\n",
       "<style scoped>\n",
       "    .dataframe tbody tr th:only-of-type {\n",
       "        vertical-align: middle;\n",
       "    }\n",
       "\n",
       "    .dataframe tbody tr th {\n",
       "        vertical-align: top;\n",
       "    }\n",
       "\n",
       "    .dataframe thead th {\n",
       "        text-align: right;\n",
       "    }\n",
       "</style>\n",
       "<table border=\"1\" class=\"dataframe\">\n",
       "  <thead>\n",
       "    <tr style=\"text-align: right;\">\n",
       "      <th></th>\n",
       "      <th>월ID</th>\n",
       "      <th>상점ID</th>\n",
       "      <th>상품ID</th>\n",
       "    </tr>\n",
       "  </thead>\n",
       "  <tbody>\n",
       "    <tr>\n",
       "      <th>0</th>\n",
       "      <td>0</td>\n",
       "      <td>59</td>\n",
       "      <td>22154</td>\n",
       "    </tr>\n",
       "    <tr>\n",
       "      <th>1</th>\n",
       "      <td>0</td>\n",
       "      <td>59</td>\n",
       "      <td>2552</td>\n",
       "    </tr>\n",
       "    <tr>\n",
       "      <th>2</th>\n",
       "      <td>0</td>\n",
       "      <td>59</td>\n",
       "      <td>2554</td>\n",
       "    </tr>\n",
       "    <tr>\n",
       "      <th>3</th>\n",
       "      <td>0</td>\n",
       "      <td>59</td>\n",
       "      <td>2555</td>\n",
       "    </tr>\n",
       "    <tr>\n",
       "      <th>4</th>\n",
       "      <td>0</td>\n",
       "      <td>59</td>\n",
       "      <td>2564</td>\n",
       "    </tr>\n",
       "    <tr>\n",
       "      <th>...</th>\n",
       "      <td>...</td>\n",
       "      <td>...</td>\n",
       "      <td>...</td>\n",
       "    </tr>\n",
       "    <tr>\n",
       "      <th>10913845</th>\n",
       "      <td>33</td>\n",
       "      <td>21</td>\n",
       "      <td>7635</td>\n",
       "    </tr>\n",
       "    <tr>\n",
       "      <th>10913846</th>\n",
       "      <td>33</td>\n",
       "      <td>21</td>\n",
       "      <td>7638</td>\n",
       "    </tr>\n",
       "    <tr>\n",
       "      <th>10913847</th>\n",
       "      <td>33</td>\n",
       "      <td>21</td>\n",
       "      <td>7640</td>\n",
       "    </tr>\n",
       "    <tr>\n",
       "      <th>10913848</th>\n",
       "      <td>33</td>\n",
       "      <td>21</td>\n",
       "      <td>7632</td>\n",
       "    </tr>\n",
       "    <tr>\n",
       "      <th>10913849</th>\n",
       "      <td>33</td>\n",
       "      <td>21</td>\n",
       "      <td>7440</td>\n",
       "    </tr>\n",
       "  </tbody>\n",
       "</table>\n",
       "<p>10913850 rows × 3 columns</p>\n",
       "</div>"
      ],
      "text/plain": [
       "          월ID  상점ID   상품ID\n",
       "0           0    59  22154\n",
       "1           0    59   2552\n",
       "2           0    59   2554\n",
       "3           0    59   2555\n",
       "4           0    59   2564\n",
       "...       ...   ...    ...\n",
       "10913845   33    21   7635\n",
       "10913846   33    21   7638\n",
       "10913847   33    21   7640\n",
       "10913848   33    21   7632\n",
       "10913849   33    21   7440\n",
       "\n",
       "[10913850 rows x 3 columns]"
      ]
     },
     "execution_count": 16,
     "metadata": {},
     "output_type": "execute_result"
    }
   ],
   "source": [
    "from itertools import product\n",
    "\n",
    "# 월ID, 상점ID, 상품ID 프레임 생성 \n",
    "train = []\n",
    "for i in sales_train['월ID'].unique():\n",
    "    about_shop = sales_train.loc[sales_train['월ID']==i, '상점ID'].unique()\n",
    "    about_item = sales_train.loc[sales_train['월ID']==i, '상품ID'].unique()\n",
    "    # itertools의 product는 데카르트 곱으로 A집합의 x이면서 B집합에서는 y인 순서쌍들의 집합\n",
    "    train.append(np.array(list(product([i], about_shop, about_item))))\n",
    "# 피처 설정\n",
    "features = ['월ID', '상점ID', '상품ID']\n",
    "# 리스트 타입인 train을 DataFrame 타입으로 변환 \n",
    "train = pd.DataFrame(np.vstack(train), columns=features)\n",
    "train"
   ]
  },
  {
   "cell_type": "code",
   "execution_count": 17,
   "metadata": {},
   "outputs": [
    {
     "data": {
      "text/html": [
       "<div>\n",
       "<style scoped>\n",
       "    .dataframe tbody tr th:only-of-type {\n",
       "        vertical-align: middle;\n",
       "    }\n",
       "\n",
       "    .dataframe tbody tr th {\n",
       "        vertical-align: top;\n",
       "    }\n",
       "\n",
       "    .dataframe thead th {\n",
       "        text-align: right;\n",
       "    }\n",
       "</style>\n",
       "<table border=\"1\" class=\"dataframe\">\n",
       "  <thead>\n",
       "    <tr style=\"text-align: right;\">\n",
       "      <th></th>\n",
       "      <th>월ID</th>\n",
       "      <th>상점ID</th>\n",
       "      <th>상품ID</th>\n",
       "    </tr>\n",
       "  </thead>\n",
       "  <tbody>\n",
       "    <tr>\n",
       "      <th>0</th>\n",
       "      <td>0</td>\n",
       "      <td>59</td>\n",
       "      <td>22154</td>\n",
       "    </tr>\n",
       "    <tr>\n",
       "      <th>1</th>\n",
       "      <td>0</td>\n",
       "      <td>59</td>\n",
       "      <td>2552</td>\n",
       "    </tr>\n",
       "    <tr>\n",
       "      <th>2</th>\n",
       "      <td>0</td>\n",
       "      <td>59</td>\n",
       "      <td>2554</td>\n",
       "    </tr>\n",
       "    <tr>\n",
       "      <th>3</th>\n",
       "      <td>0</td>\n",
       "      <td>59</td>\n",
       "      <td>2555</td>\n",
       "    </tr>\n",
       "    <tr>\n",
       "      <th>4</th>\n",
       "      <td>0</td>\n",
       "      <td>59</td>\n",
       "      <td>2564</td>\n",
       "    </tr>\n",
       "    <tr>\n",
       "      <th>...</th>\n",
       "      <td>...</td>\n",
       "      <td>...</td>\n",
       "      <td>...</td>\n",
       "    </tr>\n",
       "    <tr>\n",
       "      <th>10913845</th>\n",
       "      <td>33</td>\n",
       "      <td>21</td>\n",
       "      <td>7635</td>\n",
       "    </tr>\n",
       "    <tr>\n",
       "      <th>10913846</th>\n",
       "      <td>33</td>\n",
       "      <td>21</td>\n",
       "      <td>7638</td>\n",
       "    </tr>\n",
       "    <tr>\n",
       "      <th>10913847</th>\n",
       "      <td>33</td>\n",
       "      <td>21</td>\n",
       "      <td>7640</td>\n",
       "    </tr>\n",
       "    <tr>\n",
       "      <th>10913848</th>\n",
       "      <td>33</td>\n",
       "      <td>21</td>\n",
       "      <td>7632</td>\n",
       "    </tr>\n",
       "    <tr>\n",
       "      <th>10913849</th>\n",
       "      <td>33</td>\n",
       "      <td>21</td>\n",
       "      <td>7440</td>\n",
       "    </tr>\n",
       "  </tbody>\n",
       "</table>\n",
       "<p>10913850 rows × 3 columns</p>\n",
       "</div>"
      ],
      "text/plain": [
       "          월ID  상점ID   상품ID\n",
       "0           0    59  22154\n",
       "1           0    59   2552\n",
       "2           0    59   2554\n",
       "3           0    59   2555\n",
       "4           0    59   2564\n",
       "...       ...   ...    ...\n",
       "10913845   33    21   7635\n",
       "10913846   33    21   7638\n",
       "10913847   33    21   7640\n",
       "10913848   33    21   7632\n",
       "10913849   33    21   7440\n",
       "\n",
       "[10913850 rows x 3 columns]"
      ]
     },
     "execution_count": 17,
     "metadata": {},
     "output_type": "execute_result"
    }
   ],
   "source": [
    "train"
   ]
  },
  {
   "cell_type": "markdown",
   "metadata": {
    "papermill": {
     "duration": 0.020973,
     "end_time": "2021-09-11T07:45:18.100787",
     "exception": false,
     "start_time": "2021-09-11T07:45:18.079814",
     "status": "completed"
    },
    "tags": []
   },
   "source": [
    "### 타깃값(월간 판매량) 추가"
   ]
  },
  {
   "cell_type": "code",
   "execution_count": 18,
   "metadata": {
    "execution": {
     "iopub.execute_input": "2023-03-21T01:27:14.827017Z",
     "iopub.status.busy": "2023-03-21T01:27:14.826726Z",
     "iopub.status.idle": "2023-03-21T01:27:15.734131Z",
     "shell.execute_reply": "2023-03-21T01:27:15.733052Z",
     "shell.execute_reply.started": "2023-03-21T01:27:14.826981Z"
    },
    "papermill": {
     "duration": 0.858293,
     "end_time": "2021-09-11T07:45:18.98004",
     "exception": false,
     "start_time": "2021-09-11T07:45:18.121747",
     "status": "completed"
    },
    "tags": []
   },
   "outputs": [],
   "source": [
    "# features 그룹화해 판매량 합 구하기 \n",
    "target = sales_train.groupby(features).agg({'일_판매량': 'sum'})\n",
    "target = target.reset_index()\n",
    "target = target.rename(columns={'일_판매량': '월간 판매량'})"
   ]
  },
  {
   "cell_type": "code",
   "execution_count": 19,
   "metadata": {
    "execution": {
     "iopub.execute_input": "2023-03-21T01:27:14.827017Z",
     "iopub.status.busy": "2023-03-21T01:27:14.826726Z",
     "iopub.status.idle": "2023-03-21T01:27:15.734131Z",
     "shell.execute_reply": "2023-03-21T01:27:15.733052Z",
     "shell.execute_reply.started": "2023-03-21T01:27:14.826981Z"
    },
    "papermill": {
     "duration": 0.858293,
     "end_time": "2021-09-11T07:45:18.98004",
     "exception": false,
     "start_time": "2021-09-11T07:45:18.121747",
     "status": "completed"
    },
    "tags": []
   },
   "outputs": [
    {
     "data": {
      "text/html": [
       "<div>\n",
       "<style scoped>\n",
       "    .dataframe tbody tr th:only-of-type {\n",
       "        vertical-align: middle;\n",
       "    }\n",
       "\n",
       "    .dataframe tbody tr th {\n",
       "        vertical-align: top;\n",
       "    }\n",
       "\n",
       "    .dataframe thead th {\n",
       "        text-align: right;\n",
       "    }\n",
       "</style>\n",
       "<table border=\"1\" class=\"dataframe\">\n",
       "  <thead>\n",
       "    <tr style=\"text-align: right;\">\n",
       "      <th></th>\n",
       "      <th>월ID</th>\n",
       "      <th>상점ID</th>\n",
       "      <th>상품ID</th>\n",
       "      <th>월간 판매량</th>\n",
       "    </tr>\n",
       "  </thead>\n",
       "  <tbody>\n",
       "    <tr>\n",
       "      <th>0</th>\n",
       "      <td>0</td>\n",
       "      <td>0</td>\n",
       "      <td>32</td>\n",
       "      <td>6.0</td>\n",
       "    </tr>\n",
       "    <tr>\n",
       "      <th>1</th>\n",
       "      <td>0</td>\n",
       "      <td>0</td>\n",
       "      <td>33</td>\n",
       "      <td>3.0</td>\n",
       "    </tr>\n",
       "    <tr>\n",
       "      <th>2</th>\n",
       "      <td>0</td>\n",
       "      <td>0</td>\n",
       "      <td>35</td>\n",
       "      <td>1.0</td>\n",
       "    </tr>\n",
       "    <tr>\n",
       "      <th>3</th>\n",
       "      <td>0</td>\n",
       "      <td>0</td>\n",
       "      <td>43</td>\n",
       "      <td>1.0</td>\n",
       "    </tr>\n",
       "    <tr>\n",
       "      <th>4</th>\n",
       "      <td>0</td>\n",
       "      <td>0</td>\n",
       "      <td>51</td>\n",
       "      <td>2.0</td>\n",
       "    </tr>\n",
       "    <tr>\n",
       "      <th>...</th>\n",
       "      <td>...</td>\n",
       "      <td>...</td>\n",
       "      <td>...</td>\n",
       "      <td>...</td>\n",
       "    </tr>\n",
       "    <tr>\n",
       "      <th>1609119</th>\n",
       "      <td>33</td>\n",
       "      <td>59</td>\n",
       "      <td>22087</td>\n",
       "      <td>6.0</td>\n",
       "    </tr>\n",
       "    <tr>\n",
       "      <th>1609120</th>\n",
       "      <td>33</td>\n",
       "      <td>59</td>\n",
       "      <td>22088</td>\n",
       "      <td>2.0</td>\n",
       "    </tr>\n",
       "    <tr>\n",
       "      <th>1609121</th>\n",
       "      <td>33</td>\n",
       "      <td>59</td>\n",
       "      <td>22091</td>\n",
       "      <td>1.0</td>\n",
       "    </tr>\n",
       "    <tr>\n",
       "      <th>1609122</th>\n",
       "      <td>33</td>\n",
       "      <td>59</td>\n",
       "      <td>22100</td>\n",
       "      <td>1.0</td>\n",
       "    </tr>\n",
       "    <tr>\n",
       "      <th>1609123</th>\n",
       "      <td>33</td>\n",
       "      <td>59</td>\n",
       "      <td>22102</td>\n",
       "      <td>1.0</td>\n",
       "    </tr>\n",
       "  </tbody>\n",
       "</table>\n",
       "<p>1609124 rows × 4 columns</p>\n",
       "</div>"
      ],
      "text/plain": [
       "         월ID  상점ID   상품ID  월간 판매량\n",
       "0          0     0     32     6.0\n",
       "1          0     0     33     3.0\n",
       "2          0     0     35     1.0\n",
       "3          0     0     43     1.0\n",
       "4          0     0     51     2.0\n",
       "...      ...   ...    ...     ...\n",
       "1609119   33    59  22087     6.0\n",
       "1609120   33    59  22088     2.0\n",
       "1609121   33    59  22091     1.0\n",
       "1609122   33    59  22100     1.0\n",
       "1609123   33    59  22102     1.0\n",
       "\n",
       "[1609124 rows x 4 columns]"
      ]
     },
     "execution_count": 19,
     "metadata": {},
     "output_type": "execute_result"
    }
   ],
   "source": [
    "target"
   ]
  },
  {
   "cell_type": "code",
   "execution_count": 20,
   "metadata": {
    "execution": {
     "iopub.execute_input": "2023-03-21T01:27:15.736970Z",
     "iopub.status.busy": "2023-03-21T01:27:15.736622Z",
     "iopub.status.idle": "2023-03-21T01:27:20.530472Z",
     "shell.execute_reply": "2023-03-21T01:27:20.529600Z",
     "shell.execute_reply.started": "2023-03-21T01:27:15.736928Z"
    },
    "papermill": {
     "duration": 4.239447,
     "end_time": "2021-09-11T07:45:23.240476",
     "exception": false,
     "start_time": "2021-09-11T07:45:19.001029",
     "status": "completed"
    },
    "tags": []
   },
   "outputs": [],
   "source": [
    "# train과 target 병합\n",
    "train = train.merge(target, on=features, how='left')"
   ]
  },
  {
   "cell_type": "code",
   "execution_count": 21,
   "metadata": {
    "execution": {
     "iopub.execute_input": "2023-03-21T01:27:15.736970Z",
     "iopub.status.busy": "2023-03-21T01:27:15.736622Z",
     "iopub.status.idle": "2023-03-21T01:27:20.530472Z",
     "shell.execute_reply": "2023-03-21T01:27:20.529600Z",
     "shell.execute_reply.started": "2023-03-21T01:27:15.736928Z"
    },
    "papermill": {
     "duration": 4.239447,
     "end_time": "2021-09-11T07:45:23.240476",
     "exception": false,
     "start_time": "2021-09-11T07:45:19.001029",
     "status": "completed"
    },
    "tags": []
   },
   "outputs": [
    {
     "data": {
      "text/html": [
       "<div>\n",
       "<style scoped>\n",
       "    .dataframe tbody tr th:only-of-type {\n",
       "        vertical-align: middle;\n",
       "    }\n",
       "\n",
       "    .dataframe tbody tr th {\n",
       "        vertical-align: top;\n",
       "    }\n",
       "\n",
       "    .dataframe thead th {\n",
       "        text-align: right;\n",
       "    }\n",
       "</style>\n",
       "<table border=\"1\" class=\"dataframe\">\n",
       "  <thead>\n",
       "    <tr style=\"text-align: right;\">\n",
       "      <th></th>\n",
       "      <th>월ID</th>\n",
       "      <th>상점ID</th>\n",
       "      <th>상품ID</th>\n",
       "      <th>월간 판매량</th>\n",
       "    </tr>\n",
       "  </thead>\n",
       "  <tbody>\n",
       "    <tr>\n",
       "      <th>0</th>\n",
       "      <td>0</td>\n",
       "      <td>59</td>\n",
       "      <td>22154</td>\n",
       "      <td>1.0</td>\n",
       "    </tr>\n",
       "    <tr>\n",
       "      <th>1</th>\n",
       "      <td>0</td>\n",
       "      <td>59</td>\n",
       "      <td>2552</td>\n",
       "      <td>NaN</td>\n",
       "    </tr>\n",
       "    <tr>\n",
       "      <th>2</th>\n",
       "      <td>0</td>\n",
       "      <td>59</td>\n",
       "      <td>2554</td>\n",
       "      <td>NaN</td>\n",
       "    </tr>\n",
       "    <tr>\n",
       "      <th>3</th>\n",
       "      <td>0</td>\n",
       "      <td>59</td>\n",
       "      <td>2555</td>\n",
       "      <td>NaN</td>\n",
       "    </tr>\n",
       "    <tr>\n",
       "      <th>4</th>\n",
       "      <td>0</td>\n",
       "      <td>59</td>\n",
       "      <td>2564</td>\n",
       "      <td>NaN</td>\n",
       "    </tr>\n",
       "    <tr>\n",
       "      <th>...</th>\n",
       "      <td>...</td>\n",
       "      <td>...</td>\n",
       "      <td>...</td>\n",
       "      <td>...</td>\n",
       "    </tr>\n",
       "    <tr>\n",
       "      <th>10913845</th>\n",
       "      <td>33</td>\n",
       "      <td>21</td>\n",
       "      <td>7635</td>\n",
       "      <td>NaN</td>\n",
       "    </tr>\n",
       "    <tr>\n",
       "      <th>10913846</th>\n",
       "      <td>33</td>\n",
       "      <td>21</td>\n",
       "      <td>7638</td>\n",
       "      <td>NaN</td>\n",
       "    </tr>\n",
       "    <tr>\n",
       "      <th>10913847</th>\n",
       "      <td>33</td>\n",
       "      <td>21</td>\n",
       "      <td>7640</td>\n",
       "      <td>NaN</td>\n",
       "    </tr>\n",
       "    <tr>\n",
       "      <th>10913848</th>\n",
       "      <td>33</td>\n",
       "      <td>21</td>\n",
       "      <td>7632</td>\n",
       "      <td>NaN</td>\n",
       "    </tr>\n",
       "    <tr>\n",
       "      <th>10913849</th>\n",
       "      <td>33</td>\n",
       "      <td>21</td>\n",
       "      <td>7440</td>\n",
       "      <td>NaN</td>\n",
       "    </tr>\n",
       "  </tbody>\n",
       "</table>\n",
       "<p>10913850 rows × 4 columns</p>\n",
       "</div>"
      ],
      "text/plain": [
       "          월ID  상점ID   상품ID  월간 판매량\n",
       "0           0    59  22154     1.0\n",
       "1           0    59   2552     NaN\n",
       "2           0    59   2554     NaN\n",
       "3           0    59   2555     NaN\n",
       "4           0    59   2564     NaN\n",
       "...       ...   ...    ...     ...\n",
       "10913845   33    21   7635     NaN\n",
       "10913846   33    21   7638     NaN\n",
       "10913847   33    21   7640     NaN\n",
       "10913848   33    21   7632     NaN\n",
       "10913849   33    21   7440     NaN\n",
       "\n",
       "[10913850 rows x 4 columns]"
      ]
     },
     "execution_count": 21,
     "metadata": {},
     "output_type": "execute_result"
    }
   ],
   "source": [
    "train"
   ]
  },
  {
   "cell_type": "markdown",
   "metadata": {
    "papermill": {
     "duration": 0.02121,
     "end_time": "2021-09-11T07:45:23.417467",
     "exception": false,
     "start_time": "2021-09-11T07:45:23.396257",
     "status": "completed"
    },
    "tags": []
   },
   "source": [
    "### 테스트 데이터 이어붙이기"
   ]
  },
  {
   "cell_type": "code",
   "execution_count": 22,
   "metadata": {},
   "outputs": [
    {
     "data": {
      "text/html": [
       "<div>\n",
       "<style scoped>\n",
       "    .dataframe tbody tr th:only-of-type {\n",
       "        vertical-align: middle;\n",
       "    }\n",
       "\n",
       "    .dataframe tbody tr th {\n",
       "        vertical-align: top;\n",
       "    }\n",
       "\n",
       "    .dataframe thead th {\n",
       "        text-align: right;\n",
       "    }\n",
       "</style>\n",
       "<table border=\"1\" class=\"dataframe\">\n",
       "  <thead>\n",
       "    <tr style=\"text-align: right;\">\n",
       "      <th></th>\n",
       "      <th>ID</th>\n",
       "      <th>상점ID</th>\n",
       "      <th>상품ID</th>\n",
       "    </tr>\n",
       "  </thead>\n",
       "  <tbody>\n",
       "    <tr>\n",
       "      <th>0</th>\n",
       "      <td>0</td>\n",
       "      <td>5</td>\n",
       "      <td>5037</td>\n",
       "    </tr>\n",
       "    <tr>\n",
       "      <th>1</th>\n",
       "      <td>1</td>\n",
       "      <td>5</td>\n",
       "      <td>5320</td>\n",
       "    </tr>\n",
       "    <tr>\n",
       "      <th>2</th>\n",
       "      <td>2</td>\n",
       "      <td>5</td>\n",
       "      <td>5233</td>\n",
       "    </tr>\n",
       "    <tr>\n",
       "      <th>3</th>\n",
       "      <td>3</td>\n",
       "      <td>5</td>\n",
       "      <td>5232</td>\n",
       "    </tr>\n",
       "    <tr>\n",
       "      <th>4</th>\n",
       "      <td>4</td>\n",
       "      <td>5</td>\n",
       "      <td>5268</td>\n",
       "    </tr>\n",
       "    <tr>\n",
       "      <th>...</th>\n",
       "      <td>...</td>\n",
       "      <td>...</td>\n",
       "      <td>...</td>\n",
       "    </tr>\n",
       "    <tr>\n",
       "      <th>214195</th>\n",
       "      <td>214195</td>\n",
       "      <td>45</td>\n",
       "      <td>18454</td>\n",
       "    </tr>\n",
       "    <tr>\n",
       "      <th>214196</th>\n",
       "      <td>214196</td>\n",
       "      <td>45</td>\n",
       "      <td>16188</td>\n",
       "    </tr>\n",
       "    <tr>\n",
       "      <th>214197</th>\n",
       "      <td>214197</td>\n",
       "      <td>45</td>\n",
       "      <td>15757</td>\n",
       "    </tr>\n",
       "    <tr>\n",
       "      <th>214198</th>\n",
       "      <td>214198</td>\n",
       "      <td>45</td>\n",
       "      <td>19648</td>\n",
       "    </tr>\n",
       "    <tr>\n",
       "      <th>214199</th>\n",
       "      <td>214199</td>\n",
       "      <td>45</td>\n",
       "      <td>969</td>\n",
       "    </tr>\n",
       "  </tbody>\n",
       "</table>\n",
       "<p>214200 rows × 3 columns</p>\n",
       "</div>"
      ],
      "text/plain": [
       "            ID  상점ID   상품ID\n",
       "0            0     5   5037\n",
       "1            1     5   5320\n",
       "2            2     5   5233\n",
       "3            3     5   5232\n",
       "4            4     5   5268\n",
       "...        ...   ...    ...\n",
       "214195  214195    45  18454\n",
       "214196  214196    45  16188\n",
       "214197  214197    45  15757\n",
       "214198  214198    45  19648\n",
       "214199  214199    45    969\n",
       "\n",
       "[214200 rows x 3 columns]"
      ]
     },
     "execution_count": 22,
     "metadata": {},
     "output_type": "execute_result"
    }
   ],
   "source": [
    "test"
   ]
  },
  {
   "cell_type": "code",
   "execution_count": 23,
   "metadata": {
    "execution": {
     "iopub.execute_input": "2023-03-21T01:27:20.633003Z",
     "iopub.status.busy": "2023-03-21T01:27:20.632414Z",
     "iopub.status.idle": "2023-03-21T01:27:20.646385Z",
     "shell.execute_reply": "2023-03-21T01:27:20.645189Z",
     "shell.execute_reply.started": "2023-03-21T01:27:20.632968Z"
    },
    "papermill": {
     "duration": 0.029334,
     "end_time": "2021-09-11T07:45:23.467816",
     "exception": false,
     "start_time": "2021-09-11T07:45:23.438482",
     "status": "completed"
    },
    "tags": []
   },
   "outputs": [],
   "source": [
    "# test['월ID'] = 34"
   ]
  },
  {
   "cell_type": "code",
   "execution_count": 24,
   "metadata": {},
   "outputs": [
    {
     "data": {
      "text/html": [
       "<div>\n",
       "<style scoped>\n",
       "    .dataframe tbody tr th:only-of-type {\n",
       "        vertical-align: middle;\n",
       "    }\n",
       "\n",
       "    .dataframe tbody tr th {\n",
       "        vertical-align: top;\n",
       "    }\n",
       "\n",
       "    .dataframe thead th {\n",
       "        text-align: right;\n",
       "    }\n",
       "</style>\n",
       "<table border=\"1\" class=\"dataframe\">\n",
       "  <thead>\n",
       "    <tr style=\"text-align: right;\">\n",
       "      <th></th>\n",
       "      <th>ID</th>\n",
       "      <th>상점ID</th>\n",
       "      <th>상품ID</th>\n",
       "    </tr>\n",
       "  </thead>\n",
       "  <tbody>\n",
       "    <tr>\n",
       "      <th>0</th>\n",
       "      <td>0</td>\n",
       "      <td>5</td>\n",
       "      <td>5037</td>\n",
       "    </tr>\n",
       "    <tr>\n",
       "      <th>1</th>\n",
       "      <td>1</td>\n",
       "      <td>5</td>\n",
       "      <td>5320</td>\n",
       "    </tr>\n",
       "    <tr>\n",
       "      <th>2</th>\n",
       "      <td>2</td>\n",
       "      <td>5</td>\n",
       "      <td>5233</td>\n",
       "    </tr>\n",
       "    <tr>\n",
       "      <th>3</th>\n",
       "      <td>3</td>\n",
       "      <td>5</td>\n",
       "      <td>5232</td>\n",
       "    </tr>\n",
       "    <tr>\n",
       "      <th>4</th>\n",
       "      <td>4</td>\n",
       "      <td>5</td>\n",
       "      <td>5268</td>\n",
       "    </tr>\n",
       "    <tr>\n",
       "      <th>...</th>\n",
       "      <td>...</td>\n",
       "      <td>...</td>\n",
       "      <td>...</td>\n",
       "    </tr>\n",
       "    <tr>\n",
       "      <th>214195</th>\n",
       "      <td>214195</td>\n",
       "      <td>45</td>\n",
       "      <td>18454</td>\n",
       "    </tr>\n",
       "    <tr>\n",
       "      <th>214196</th>\n",
       "      <td>214196</td>\n",
       "      <td>45</td>\n",
       "      <td>16188</td>\n",
       "    </tr>\n",
       "    <tr>\n",
       "      <th>214197</th>\n",
       "      <td>214197</td>\n",
       "      <td>45</td>\n",
       "      <td>15757</td>\n",
       "    </tr>\n",
       "    <tr>\n",
       "      <th>214198</th>\n",
       "      <td>214198</td>\n",
       "      <td>45</td>\n",
       "      <td>19648</td>\n",
       "    </tr>\n",
       "    <tr>\n",
       "      <th>214199</th>\n",
       "      <td>214199</td>\n",
       "      <td>45</td>\n",
       "      <td>969</td>\n",
       "    </tr>\n",
       "  </tbody>\n",
       "</table>\n",
       "<p>214200 rows × 3 columns</p>\n",
       "</div>"
      ],
      "text/plain": [
       "            ID  상점ID   상품ID\n",
       "0            0     5   5037\n",
       "1            1     5   5320\n",
       "2            2     5   5233\n",
       "3            3     5   5232\n",
       "4            4     5   5268\n",
       "...        ...   ...    ...\n",
       "214195  214195    45  18454\n",
       "214196  214196    45  16188\n",
       "214197  214197    45  15757\n",
       "214198  214198    45  19648\n",
       "214199  214199    45    969\n",
       "\n",
       "[214200 rows x 3 columns]"
      ]
     },
     "execution_count": 24,
     "metadata": {},
     "output_type": "execute_result"
    }
   ],
   "source": [
    "test"
   ]
  },
  {
   "cell_type": "code",
   "execution_count": 25,
   "metadata": {
    "execution": {
     "iopub.execute_input": "2023-03-21T01:27:20.648253Z",
     "iopub.status.busy": "2023-03-21T01:27:20.647975Z",
     "iopub.status.idle": "2023-03-21T01:27:20.739920Z",
     "shell.execute_reply": "2023-03-21T01:27:20.738884Z",
     "shell.execute_reply.started": "2023-03-21T01:27:20.648221Z"
    },
    "papermill": {
     "duration": 0.260787,
     "end_time": "2021-09-11T07:45:23.750182",
     "exception": false,
     "start_time": "2021-09-11T07:45:23.489395",
     "status": "completed"
    },
    "tags": []
   },
   "outputs": [],
   "source": [
    "test['월ID'] = 34\n",
    "# 불필요한 ID 제거\n",
    "total_data = pd.concat([train, test.drop('ID', axis=1)],\n",
    "                     ignore_index=True,\n",
    "                     keys=features)"
   ]
  },
  {
   "cell_type": "code",
   "execution_count": 26,
   "metadata": {
    "execution": {
     "iopub.execute_input": "2023-03-21T01:27:20.742055Z",
     "iopub.status.busy": "2023-03-21T01:27:20.741719Z",
     "iopub.status.idle": "2023-03-21T01:27:20.912562Z",
     "shell.execute_reply": "2023-03-21T01:27:20.911666Z",
     "shell.execute_reply.started": "2023-03-21T01:27:20.742011Z"
    }
   },
   "outputs": [
    {
     "data": {
      "text/html": [
       "<div>\n",
       "<style scoped>\n",
       "    .dataframe tbody tr th:only-of-type {\n",
       "        vertical-align: middle;\n",
       "    }\n",
       "\n",
       "    .dataframe tbody tr th {\n",
       "        vertical-align: top;\n",
       "    }\n",
       "\n",
       "    .dataframe thead th {\n",
       "        text-align: right;\n",
       "    }\n",
       "</style>\n",
       "<table border=\"1\" class=\"dataframe\">\n",
       "  <thead>\n",
       "    <tr style=\"text-align: right;\">\n",
       "      <th></th>\n",
       "      <th>월ID</th>\n",
       "      <th>상점ID</th>\n",
       "      <th>상품ID</th>\n",
       "      <th>월간 판매량</th>\n",
       "    </tr>\n",
       "  </thead>\n",
       "  <tbody>\n",
       "    <tr>\n",
       "      <th>0</th>\n",
       "      <td>0</td>\n",
       "      <td>59</td>\n",
       "      <td>22154</td>\n",
       "      <td>1.0</td>\n",
       "    </tr>\n",
       "    <tr>\n",
       "      <th>1</th>\n",
       "      <td>0</td>\n",
       "      <td>59</td>\n",
       "      <td>2552</td>\n",
       "      <td>0.0</td>\n",
       "    </tr>\n",
       "    <tr>\n",
       "      <th>2</th>\n",
       "      <td>0</td>\n",
       "      <td>59</td>\n",
       "      <td>2554</td>\n",
       "      <td>0.0</td>\n",
       "    </tr>\n",
       "    <tr>\n",
       "      <th>3</th>\n",
       "      <td>0</td>\n",
       "      <td>59</td>\n",
       "      <td>2555</td>\n",
       "      <td>0.0</td>\n",
       "    </tr>\n",
       "    <tr>\n",
       "      <th>4</th>\n",
       "      <td>0</td>\n",
       "      <td>59</td>\n",
       "      <td>2564</td>\n",
       "      <td>0.0</td>\n",
       "    </tr>\n",
       "    <tr>\n",
       "      <th>...</th>\n",
       "      <td>...</td>\n",
       "      <td>...</td>\n",
       "      <td>...</td>\n",
       "      <td>...</td>\n",
       "    </tr>\n",
       "    <tr>\n",
       "      <th>11128045</th>\n",
       "      <td>34</td>\n",
       "      <td>45</td>\n",
       "      <td>18454</td>\n",
       "      <td>0.0</td>\n",
       "    </tr>\n",
       "    <tr>\n",
       "      <th>11128046</th>\n",
       "      <td>34</td>\n",
       "      <td>45</td>\n",
       "      <td>16188</td>\n",
       "      <td>0.0</td>\n",
       "    </tr>\n",
       "    <tr>\n",
       "      <th>11128047</th>\n",
       "      <td>34</td>\n",
       "      <td>45</td>\n",
       "      <td>15757</td>\n",
       "      <td>0.0</td>\n",
       "    </tr>\n",
       "    <tr>\n",
       "      <th>11128048</th>\n",
       "      <td>34</td>\n",
       "      <td>45</td>\n",
       "      <td>19648</td>\n",
       "      <td>0.0</td>\n",
       "    </tr>\n",
       "    <tr>\n",
       "      <th>11128049</th>\n",
       "      <td>34</td>\n",
       "      <td>45</td>\n",
       "      <td>969</td>\n",
       "      <td>0.0</td>\n",
       "    </tr>\n",
       "  </tbody>\n",
       "</table>\n",
       "<p>11128050 rows × 4 columns</p>\n",
       "</div>"
      ],
      "text/plain": [
       "          월ID  상점ID   상품ID  월간 판매량\n",
       "0           0    59  22154     1.0\n",
       "1           0    59   2552     0.0\n",
       "2           0    59   2554     0.0\n",
       "3           0    59   2555     0.0\n",
       "4           0    59   2564     0.0\n",
       "...       ...   ...    ...     ...\n",
       "11128045   34    45  18454     0.0\n",
       "11128046   34    45  16188     0.0\n",
       "11128047   34    45  15757     0.0\n",
       "11128048   34    45  19648     0.0\n",
       "11128049   34    45    969     0.0\n",
       "\n",
       "[11128050 rows x 4 columns]"
      ]
     },
     "execution_count": 26,
     "metadata": {},
     "output_type": "execute_result"
    }
   ],
   "source": [
    "# 결측값 0 입력\n",
    "total_data = total_data.fillna(0)\n",
    "\n",
    "total_data"
   ]
  },
  {
   "cell_type": "code",
   "execution_count": 27,
   "metadata": {},
   "outputs": [
    {
     "data": {
      "text/html": [
       "<div>\n",
       "<style scoped>\n",
       "    .dataframe tbody tr th:only-of-type {\n",
       "        vertical-align: middle;\n",
       "    }\n",
       "\n",
       "    .dataframe tbody tr th {\n",
       "        vertical-align: top;\n",
       "    }\n",
       "\n",
       "    .dataframe thead th {\n",
       "        text-align: right;\n",
       "    }\n",
       "</style>\n",
       "<table border=\"1\" class=\"dataframe\">\n",
       "  <thead>\n",
       "    <tr style=\"text-align: right;\">\n",
       "      <th></th>\n",
       "      <th>월ID</th>\n",
       "      <th>상점ID</th>\n",
       "      <th>상품ID</th>\n",
       "      <th>월간 판매량</th>\n",
       "    </tr>\n",
       "  </thead>\n",
       "  <tbody>\n",
       "    <tr>\n",
       "      <th>0</th>\n",
       "      <td>0</td>\n",
       "      <td>59</td>\n",
       "      <td>22154</td>\n",
       "      <td>1.0</td>\n",
       "    </tr>\n",
       "    <tr>\n",
       "      <th>1</th>\n",
       "      <td>0</td>\n",
       "      <td>59</td>\n",
       "      <td>2552</td>\n",
       "      <td>0.0</td>\n",
       "    </tr>\n",
       "    <tr>\n",
       "      <th>2</th>\n",
       "      <td>0</td>\n",
       "      <td>59</td>\n",
       "      <td>2554</td>\n",
       "      <td>0.0</td>\n",
       "    </tr>\n",
       "    <tr>\n",
       "      <th>3</th>\n",
       "      <td>0</td>\n",
       "      <td>59</td>\n",
       "      <td>2555</td>\n",
       "      <td>0.0</td>\n",
       "    </tr>\n",
       "    <tr>\n",
       "      <th>4</th>\n",
       "      <td>0</td>\n",
       "      <td>59</td>\n",
       "      <td>2564</td>\n",
       "      <td>0.0</td>\n",
       "    </tr>\n",
       "    <tr>\n",
       "      <th>...</th>\n",
       "      <td>...</td>\n",
       "      <td>...</td>\n",
       "      <td>...</td>\n",
       "      <td>...</td>\n",
       "    </tr>\n",
       "    <tr>\n",
       "      <th>11128045</th>\n",
       "      <td>34</td>\n",
       "      <td>45</td>\n",
       "      <td>18454</td>\n",
       "      <td>0.0</td>\n",
       "    </tr>\n",
       "    <tr>\n",
       "      <th>11128046</th>\n",
       "      <td>34</td>\n",
       "      <td>45</td>\n",
       "      <td>16188</td>\n",
       "      <td>0.0</td>\n",
       "    </tr>\n",
       "    <tr>\n",
       "      <th>11128047</th>\n",
       "      <td>34</td>\n",
       "      <td>45</td>\n",
       "      <td>15757</td>\n",
       "      <td>0.0</td>\n",
       "    </tr>\n",
       "    <tr>\n",
       "      <th>11128048</th>\n",
       "      <td>34</td>\n",
       "      <td>45</td>\n",
       "      <td>19648</td>\n",
       "      <td>0.0</td>\n",
       "    </tr>\n",
       "    <tr>\n",
       "      <th>11128049</th>\n",
       "      <td>34</td>\n",
       "      <td>45</td>\n",
       "      <td>969</td>\n",
       "      <td>0.0</td>\n",
       "    </tr>\n",
       "  </tbody>\n",
       "</table>\n",
       "<p>11128050 rows × 4 columns</p>\n",
       "</div>"
      ],
      "text/plain": [
       "          월ID  상점ID   상품ID  월간 판매량\n",
       "0           0    59  22154     1.0\n",
       "1           0    59   2552     0.0\n",
       "2           0    59   2554     0.0\n",
       "3           0    59   2555     0.0\n",
       "4           0    59   2564     0.0\n",
       "...       ...   ...    ...     ...\n",
       "11128045   34    45  18454     0.0\n",
       "11128046   34    45  16188     0.0\n",
       "11128047   34    45  15757     0.0\n",
       "11128048   34    45  19648     0.0\n",
       "11128049   34    45    969     0.0\n",
       "\n",
       "[11128050 rows x 4 columns]"
      ]
     },
     "execution_count": 27,
     "metadata": {},
     "output_type": "execute_result"
    }
   ],
   "source": [
    "total_data"
   ]
  },
  {
   "cell_type": "markdown",
   "metadata": {
    "papermill": {
     "duration": 0.021152,
     "end_time": "2021-09-11T07:45:23.793117",
     "exception": false,
     "start_time": "2021-09-11T07:45:23.771965",
     "status": "completed"
    },
    "tags": []
   },
   "source": [
    "### 최종 데이터 생성"
   ]
  },
  {
   "cell_type": "code",
   "execution_count": 28,
   "metadata": {
    "execution": {
     "iopub.execute_input": "2023-03-21T01:27:20.914132Z",
     "iopub.status.busy": "2023-03-21T01:27:20.913903Z",
     "iopub.status.idle": "2023-03-21T01:27:28.683942Z",
     "shell.execute_reply": "2023-03-21T01:27:28.682961Z",
     "shell.execute_reply.started": "2023-03-21T01:27:20.914108Z"
    },
    "papermill": {
     "duration": 6.566492,
     "end_time": "2021-09-11T07:45:30.381207",
     "exception": false,
     "start_time": "2021-09-11T07:45:23.814715",
     "status": "completed"
    },
    "tags": []
   },
   "outputs": [
    {
     "name": "stdout",
     "output_type": "stream",
     "text": [
      "16.33% 압축!\n"
     ]
    }
   ],
   "source": [
    "# 공통 항목을 기준으로 merge() 사용\n",
    "total_data = total_data.merge(shops, on='상점ID', how='left')\n",
    "total_data = total_data.merge(items, on='상품ID', how='left')\n",
    "total_data = total_data.merge(item_categories, on='상품분류ID', how='left')\n",
    "\n",
    "# 데이터 다운캐스팅\n",
    "total_data = downcast(total_data)"
   ]
  },
  {
   "cell_type": "code",
   "execution_count": 29,
   "metadata": {
    "execution": {
     "iopub.execute_input": "2023-03-21T01:27:28.685560Z",
     "iopub.status.busy": "2023-03-21T01:27:28.685326Z",
     "iopub.status.idle": "2023-03-21T01:27:28.699607Z",
     "shell.execute_reply": "2023-03-21T01:27:28.698526Z",
     "shell.execute_reply.started": "2023-03-21T01:27:28.685533Z"
    },
    "papermill": {
     "duration": 0.035033,
     "end_time": "2021-09-11T07:45:30.439048",
     "exception": false,
     "start_time": "2021-09-11T07:45:30.404015",
     "status": "completed"
    },
    "tags": []
   },
   "outputs": [
    {
     "data": {
      "text/html": [
       "<div>\n",
       "<style scoped>\n",
       "    .dataframe tbody tr th:only-of-type {\n",
       "        vertical-align: middle;\n",
       "    }\n",
       "\n",
       "    .dataframe tbody tr th {\n",
       "        vertical-align: top;\n",
       "    }\n",
       "\n",
       "    .dataframe thead th {\n",
       "        text-align: right;\n",
       "    }\n",
       "</style>\n",
       "<table border=\"1\" class=\"dataframe\">\n",
       "  <thead>\n",
       "    <tr style=\"text-align: right;\">\n",
       "      <th></th>\n",
       "      <th>월ID</th>\n",
       "      <th>상점ID</th>\n",
       "      <th>상품ID</th>\n",
       "      <th>월간 판매량</th>\n",
       "      <th>상점명</th>\n",
       "      <th>상품명</th>\n",
       "      <th>상품분류ID</th>\n",
       "      <th>상품분류명</th>\n",
       "    </tr>\n",
       "  </thead>\n",
       "  <tbody>\n",
       "    <tr>\n",
       "      <th>0</th>\n",
       "      <td>0</td>\n",
       "      <td>59</td>\n",
       "      <td>22154</td>\n",
       "      <td>1.0</td>\n",
       "      <td>Ярославль ТЦ \"Альтаир\"</td>\n",
       "      <td>ЯВЛЕНИЕ 2012 (BD)</td>\n",
       "      <td>37</td>\n",
       "      <td>Кино - Blu-Ray</td>\n",
       "    </tr>\n",
       "    <tr>\n",
       "      <th>1</th>\n",
       "      <td>0</td>\n",
       "      <td>59</td>\n",
       "      <td>2552</td>\n",
       "      <td>0.0</td>\n",
       "      <td>Ярославль ТЦ \"Альтаир\"</td>\n",
       "      <td>DEEP PURPLE  The House Of Blue Light  LP</td>\n",
       "      <td>58</td>\n",
       "      <td>Музыка - Винил</td>\n",
       "    </tr>\n",
       "    <tr>\n",
       "      <th>2</th>\n",
       "      <td>0</td>\n",
       "      <td>59</td>\n",
       "      <td>2554</td>\n",
       "      <td>0.0</td>\n",
       "      <td>Ярославль ТЦ \"Альтаир\"</td>\n",
       "      <td>DEEP PURPLE  Who Do You Think We Are  LP</td>\n",
       "      <td>58</td>\n",
       "      <td>Музыка - Винил</td>\n",
       "    </tr>\n",
       "    <tr>\n",
       "      <th>3</th>\n",
       "      <td>0</td>\n",
       "      <td>59</td>\n",
       "      <td>2555</td>\n",
       "      <td>0.0</td>\n",
       "      <td>Ярославль ТЦ \"Альтаир\"</td>\n",
       "      <td>DEEP PURPLE 30 Very Best Of 2CD (Фирм.)</td>\n",
       "      <td>56</td>\n",
       "      <td>Музыка - CD фирменного производства</td>\n",
       "    </tr>\n",
       "    <tr>\n",
       "      <th>4</th>\n",
       "      <td>0</td>\n",
       "      <td>59</td>\n",
       "      <td>2564</td>\n",
       "      <td>0.0</td>\n",
       "      <td>Ярославль ТЦ \"Альтаир\"</td>\n",
       "      <td>DEEP PURPLE Perihelion: Live In Concert DVD (К...</td>\n",
       "      <td>59</td>\n",
       "      <td>Музыка - Музыкальное видео</td>\n",
       "    </tr>\n",
       "  </tbody>\n",
       "</table>\n",
       "</div>"
      ],
      "text/plain": [
       "   월ID  상점ID   상품ID  월간 판매량                     상점명  \\\n",
       "0    0    59  22154     1.0  Ярославль ТЦ \"Альтаир\"   \n",
       "1    0    59   2552     0.0  Ярославль ТЦ \"Альтаир\"   \n",
       "2    0    59   2554     0.0  Ярославль ТЦ \"Альтаир\"   \n",
       "3    0    59   2555     0.0  Ярославль ТЦ \"Альтаир\"   \n",
       "4    0    59   2564     0.0  Ярославль ТЦ \"Альтаир\"   \n",
       "\n",
       "                                                 상품명  상품분류ID  \\\n",
       "0                                  ЯВЛЕНИЕ 2012 (BD)      37   \n",
       "1           DEEP PURPLE  The House Of Blue Light  LP      58   \n",
       "2           DEEP PURPLE  Who Do You Think We Are  LP      58   \n",
       "3            DEEP PURPLE 30 Very Best Of 2CD (Фирм.)      56   \n",
       "4  DEEP PURPLE Perihelion: Live In Concert DVD (К...      59   \n",
       "\n",
       "                                 상품분류명  \n",
       "0                       Кино - Blu-Ray  \n",
       "1                       Музыка - Винил  \n",
       "2                       Музыка - Винил  \n",
       "3  Музыка - CD фирменного производства  \n",
       "4           Музыка - Музыкальное видео  "
      ]
     },
     "execution_count": 29,
     "metadata": {},
     "output_type": "execute_result"
    }
   ],
   "source": [
    "total_data.head()"
   ]
  },
  {
   "cell_type": "code",
   "execution_count": 30,
   "metadata": {
    "execution": {
     "iopub.execute_input": "2023-03-21T01:27:28.701382Z",
     "iopub.status.busy": "2023-03-21T01:27:28.701108Z",
     "iopub.status.idle": "2023-03-21T01:27:30.045813Z",
     "shell.execute_reply": "2023-03-21T01:27:30.044889Z",
     "shell.execute_reply.started": "2023-03-21T01:27:28.701354Z"
    },
    "papermill": {
     "duration": 1.068509,
     "end_time": "2021-09-11T07:45:31.530678",
     "exception": false,
     "start_time": "2021-09-11T07:45:30.462169",
     "status": "completed"
    },
    "tags": []
   },
   "outputs": [],
   "source": [
    "total_data = total_data.drop(['상점명', '상품명', '상품분류명'], axis=1)"
   ]
  },
  {
   "cell_type": "code",
   "execution_count": 31,
   "metadata": {},
   "outputs": [
    {
     "data": {
      "text/html": [
       "<div>\n",
       "<style scoped>\n",
       "    .dataframe tbody tr th:only-of-type {\n",
       "        vertical-align: middle;\n",
       "    }\n",
       "\n",
       "    .dataframe tbody tr th {\n",
       "        vertical-align: top;\n",
       "    }\n",
       "\n",
       "    .dataframe thead th {\n",
       "        text-align: right;\n",
       "    }\n",
       "</style>\n",
       "<table border=\"1\" class=\"dataframe\">\n",
       "  <thead>\n",
       "    <tr style=\"text-align: right;\">\n",
       "      <th></th>\n",
       "      <th>월ID</th>\n",
       "      <th>상점ID</th>\n",
       "      <th>상품ID</th>\n",
       "      <th>월간 판매량</th>\n",
       "      <th>상품분류ID</th>\n",
       "    </tr>\n",
       "  </thead>\n",
       "  <tbody>\n",
       "    <tr>\n",
       "      <th>0</th>\n",
       "      <td>0</td>\n",
       "      <td>59</td>\n",
       "      <td>22154</td>\n",
       "      <td>1.0</td>\n",
       "      <td>37</td>\n",
       "    </tr>\n",
       "    <tr>\n",
       "      <th>1</th>\n",
       "      <td>0</td>\n",
       "      <td>59</td>\n",
       "      <td>2552</td>\n",
       "      <td>0.0</td>\n",
       "      <td>58</td>\n",
       "    </tr>\n",
       "    <tr>\n",
       "      <th>2</th>\n",
       "      <td>0</td>\n",
       "      <td>59</td>\n",
       "      <td>2554</td>\n",
       "      <td>0.0</td>\n",
       "      <td>58</td>\n",
       "    </tr>\n",
       "    <tr>\n",
       "      <th>3</th>\n",
       "      <td>0</td>\n",
       "      <td>59</td>\n",
       "      <td>2555</td>\n",
       "      <td>0.0</td>\n",
       "      <td>56</td>\n",
       "    </tr>\n",
       "    <tr>\n",
       "      <th>4</th>\n",
       "      <td>0</td>\n",
       "      <td>59</td>\n",
       "      <td>2564</td>\n",
       "      <td>0.0</td>\n",
       "      <td>59</td>\n",
       "    </tr>\n",
       "    <tr>\n",
       "      <th>...</th>\n",
       "      <td>...</td>\n",
       "      <td>...</td>\n",
       "      <td>...</td>\n",
       "      <td>...</td>\n",
       "      <td>...</td>\n",
       "    </tr>\n",
       "    <tr>\n",
       "      <th>11128045</th>\n",
       "      <td>34</td>\n",
       "      <td>45</td>\n",
       "      <td>18454</td>\n",
       "      <td>0.0</td>\n",
       "      <td>55</td>\n",
       "    </tr>\n",
       "    <tr>\n",
       "      <th>11128046</th>\n",
       "      <td>34</td>\n",
       "      <td>45</td>\n",
       "      <td>16188</td>\n",
       "      <td>0.0</td>\n",
       "      <td>64</td>\n",
       "    </tr>\n",
       "    <tr>\n",
       "      <th>11128047</th>\n",
       "      <td>34</td>\n",
       "      <td>45</td>\n",
       "      <td>15757</td>\n",
       "      <td>0.0</td>\n",
       "      <td>55</td>\n",
       "    </tr>\n",
       "    <tr>\n",
       "      <th>11128048</th>\n",
       "      <td>34</td>\n",
       "      <td>45</td>\n",
       "      <td>19648</td>\n",
       "      <td>0.0</td>\n",
       "      <td>40</td>\n",
       "    </tr>\n",
       "    <tr>\n",
       "      <th>11128049</th>\n",
       "      <td>34</td>\n",
       "      <td>45</td>\n",
       "      <td>969</td>\n",
       "      <td>0.0</td>\n",
       "      <td>37</td>\n",
       "    </tr>\n",
       "  </tbody>\n",
       "</table>\n",
       "<p>11128050 rows × 5 columns</p>\n",
       "</div>"
      ],
      "text/plain": [
       "          월ID  상점ID   상품ID  월간 판매량  상품분류ID\n",
       "0           0    59  22154     1.0      37\n",
       "1           0    59   2552     0.0      58\n",
       "2           0    59   2554     0.0      58\n",
       "3           0    59   2555     0.0      56\n",
       "4           0    59   2564     0.0      59\n",
       "...       ...   ...    ...     ...     ...\n",
       "11128045   34    45  18454     0.0      55\n",
       "11128046   34    45  16188     0.0      64\n",
       "11128047   34    45  15757     0.0      55\n",
       "11128048   34    45  19648     0.0      40\n",
       "11128049   34    45    969     0.0      37\n",
       "\n",
       "[11128050 rows x 5 columns]"
      ]
     },
     "execution_count": 31,
     "metadata": {},
     "output_type": "execute_result"
    }
   ],
   "source": [
    "total_data"
   ]
  },
  {
   "cell_type": "markdown",
   "metadata": {
    "papermill": {
     "duration": 0.022889,
     "end_time": "2021-09-11T07:45:31.577119",
     "exception": false,
     "start_time": "2021-09-11T07:45:31.55423",
     "status": "completed"
    },
    "tags": []
   },
   "source": [
    "### 데이터 나누기"
   ]
  },
  {
   "cell_type": "code",
   "execution_count": 32,
   "metadata": {
    "execution": {
     "iopub.execute_input": "2023-03-21T01:27:30.047391Z",
     "iopub.status.busy": "2023-03-21T01:27:30.047150Z",
     "iopub.status.idle": "2023-03-21T01:27:30.828792Z",
     "shell.execute_reply": "2023-03-21T01:27:30.827667Z",
     "shell.execute_reply.started": "2023-03-21T01:27:30.047361Z"
    },
    "papermill": {
     "duration": 0.603301,
     "end_time": "2021-09-11T07:45:32.203696",
     "exception": false,
     "start_time": "2021-09-11T07:45:31.600395",
     "status": "completed"
    },
    "tags": []
   },
   "outputs": [],
   "source": [
    "# 훈련 data -> 2013년 1월(0) 부터 2015년 9월(32)\n",
    "X_train = total_data[total_data['월ID'] < 33]\n",
    "X_train = X_train.drop(['월간 판매량'], axis=1)\n",
    "# 검증 data -> 가장 최신 데이터 2015년 10월(33)\n",
    "X_valid = total_data[total_data['월ID'] == 33]\n",
    "X_valid = X_valid.drop(['월간 판매량'], axis=1)\n",
    "# 테스트 data -> 위에서 추가한 예측 데이터 == 34\n",
    "X_test = total_data[total_data['월ID'] == 34]\n",
    "X_test = X_test.drop(['월간 판매량'], axis=1)\n",
    "\n",
    "# target data\n",
    "y_train = total_data[total_data['월ID'] < 33]['월간 판매량']\n",
    "# 0~20 제한\n",
    "y_train = y_train.clip(0, 20)\n",
    "# target 검증 data\n",
    "y_valid = total_data[total_data['월ID'] == 33]['월간 판매량']\n",
    "y_valid = y_valid.clip(0, 20)"
   ]
  },
  {
   "cell_type": "code",
   "execution_count": 33,
   "metadata": {},
   "outputs": [
    {
     "data": {
      "text/plain": [
       "0.0      9100618\n",
       "1.0      1037474\n",
       "2.0       260432\n",
       "3.0       101320\n",
       "4.0        52368\n",
       "          ...   \n",
       "607.0          1\n",
       "275.0          1\n",
       "453.0          1\n",
       "272.0          1\n",
       "473.0          1\n",
       "Name: 월간 판매량, Length: 441, dtype: int64"
      ]
     },
     "execution_count": 33,
     "metadata": {},
     "output_type": "execute_result"
    }
   ],
   "source": [
    "total_data[total_data['월ID'] < 33]['월간 판매량'].value_counts()"
   ]
  },
  {
   "cell_type": "code",
   "execution_count": 34,
   "metadata": {},
   "outputs": [
    {
     "data": {
      "text/plain": [
       "0.0     9101523\n",
       "1.0     1037474\n",
       "2.0      260432\n",
       "3.0      101320\n",
       "4.0       52368\n",
       "5.0       31392\n",
       "6.0       20390\n",
       "7.0       13834\n",
       "20.0      12231\n",
       "8.0       10272\n",
       "9.0        7402\n",
       "10.0       5910\n",
       "11.0       4418\n",
       "12.0       3651\n",
       "13.0       2997\n",
       "14.0       2402\n",
       "15.0       2026\n",
       "16.0       1716\n",
       "17.0       1556\n",
       "18.0       1272\n",
       "19.0       1092\n",
       "Name: 월간 판매량, dtype: int64"
      ]
     },
     "execution_count": 34,
     "metadata": {},
     "output_type": "execute_result"
    }
   ],
   "source": [
    "y_train.value_counts()"
   ]
  },
  {
   "cell_type": "code",
   "execution_count": null,
   "metadata": {},
   "outputs": [],
   "source": []
  },
  {
   "cell_type": "code",
   "execution_count": 35,
   "metadata": {
    "execution": {
     "iopub.execute_input": "2023-03-21T01:27:30.830315Z",
     "iopub.status.busy": "2023-03-21T01:27:30.830109Z",
     "iopub.status.idle": "2023-03-21T01:27:30.927529Z",
     "shell.execute_reply": "2023-03-21T01:27:30.926456Z",
     "shell.execute_reply.started": "2023-03-21T01:27:30.830289Z"
    },
    "papermill": {
     "duration": 0.116244,
     "end_time": "2021-09-11T07:45:32.342704",
     "exception": false,
     "start_time": "2021-09-11T07:45:32.22646",
     "status": "completed"
    },
    "tags": []
   },
   "outputs": [],
   "source": [
    "# # 가비지 컬렉터\n",
    "# import gc\n",
    "\n",
    "# del target, shops, items, item_categories, total_data\n",
    "# gc.collect();"
   ]
  },
  {
   "cell_type": "markdown",
   "metadata": {
    "papermill": {
     "duration": 0.022481,
     "end_time": "2021-09-11T07:45:32.387932",
     "exception": false,
     "start_time": "2021-09-11T07:45:32.365451",
     "status": "completed"
    },
    "tags": []
   },
   "source": [
    "### 모델 훈련 및 성능 검증"
   ]
  },
  {
   "cell_type": "code",
   "execution_count": 36,
   "metadata": {
    "execution": {
     "iopub.execute_input": "2023-03-21T01:27:30.928921Z",
     "iopub.status.busy": "2023-03-21T01:27:30.928694Z",
     "iopub.status.idle": "2023-03-21T01:30:35.971836Z",
     "shell.execute_reply": "2023-03-21T01:30:35.971079Z",
     "shell.execute_reply.started": "2023-03-21T01:27:30.928895Z"
    },
    "papermill": {
     "duration": 158.849863,
     "end_time": "2021-09-11T07:48:11.260548",
     "exception": false,
     "start_time": "2021-09-11T07:45:32.410685",
     "status": "completed"
    },
    "tags": []
   },
   "outputs": [],
   "source": [
    "import lightgbm as lgb"
   ]
  },
  {
   "cell_type": "code",
   "execution_count": 37,
   "metadata": {},
   "outputs": [],
   "source": [
    "# params = {\n",
    "#     'boosting_type': 'gbdt',    # 부스팅 타입\n",
    "#     'objective': 'regression',  # 손실 함수\n",
    "#     'metric': 'mse',            # 평가 지표\n",
    "#     'num_leaves': 31,           # 트리의 최대 잎(리프) 수\n",
    "#     'learning_rate': 0.05,      # 학습률\n",
    "#     'feature_fraction': 0.9,    # feature를 사용할 비율\n",
    "#     'bagging_fraction': 0.8,    # 데이터 샘플링 비율\n",
    "#     'bagging_freq': 5,          # 데이터 샘플링의 빈도\n",
    "#     'max_depth': -1,            # 트리의 최대 깊이\n",
    "#     'n_jobs': -1,               # CPU 사용 개수 (-1은 모든 CPU 사용)\n",
    "#     'seed': 42                  # 랜덤 시드\n",
    "# }"
   ]
  },
  {
   "cell_type": "code",
   "execution_count": 38,
   "metadata": {
    "execution": {
     "iopub.execute_input": "2023-03-21T01:27:30.928921Z",
     "iopub.status.busy": "2023-03-21T01:27:30.928694Z",
     "iopub.status.idle": "2023-03-21T01:30:35.971836Z",
     "shell.execute_reply": "2023-03-21T01:30:35.971079Z",
     "shell.execute_reply.started": "2023-03-21T01:27:30.928895Z"
    },
    "papermill": {
     "duration": 158.849863,
     "end_time": "2021-09-11T07:48:11.260548",
     "exception": false,
     "start_time": "2021-09-11T07:45:32.410685",
     "status": "completed"
    },
    "tags": []
   },
   "outputs": [],
   "source": [
    "# Lightgbm 하이퍼파라미터 지정\n",
    "params = {'metric': 'rmse', # 평가지표\n",
    "          'num_leaves': 200, #  트리의 최대 잎(리프)수\n",
    "          'learning_rate': 0.005, # 학습률\n",
    "          'force_col_wise': True, # 열 단위 방식으로 데이터를 처리\n",
    "          'random_state': 10} # 시드값 고정\n",
    "\n",
    "# 카테고리 설정\n",
    "cat_features = ['상점ID', '상품분류ID']\n",
    "\n",
    "# Lightgbm 훈련 데이터셋\n",
    "dtrain = lgb.Dataset(X_train, y_train)\n",
    "# Lightgbm 검증 데이터셋\n",
    "dvalid = lgb.Dataset(X_valid, y_valid)"
   ]
  },
  {
   "cell_type": "code",
   "execution_count": 39,
   "metadata": {
    "execution": {
     "iopub.execute_input": "2023-03-21T01:27:30.928921Z",
     "iopub.status.busy": "2023-03-21T01:27:30.928694Z",
     "iopub.status.idle": "2023-03-21T01:30:35.971836Z",
     "shell.execute_reply": "2023-03-21T01:30:35.971079Z",
     "shell.execute_reply.started": "2023-03-21T01:27:30.928895Z"
    },
    "papermill": {
     "duration": 158.849863,
     "end_time": "2021-09-11T07:48:11.260548",
     "exception": false,
     "start_time": "2021-09-11T07:45:32.410685",
     "status": "completed"
    },
    "tags": []
   },
   "outputs": [],
   "source": []
  },
  {
   "cell_type": "code",
   "execution_count": 40,
   "metadata": {
    "execution": {
     "iopub.execute_input": "2023-03-21T01:27:30.928921Z",
     "iopub.status.busy": "2023-03-21T01:27:30.928694Z",
     "iopub.status.idle": "2023-03-21T01:30:35.971836Z",
     "shell.execute_reply": "2023-03-21T01:30:35.971079Z",
     "shell.execute_reply.started": "2023-03-21T01:27:30.928895Z"
    },
    "papermill": {
     "duration": 158.849863,
     "end_time": "2021-09-11T07:48:11.260548",
     "exception": false,
     "start_time": "2021-09-11T07:45:32.410685",
     "status": "completed"
    },
    "tags": []
   },
   "outputs": [
    {
     "name": "stdout",
     "output_type": "stream",
     "text": [
      "[LightGBM] [Info] Total Bins 426\n",
      "[LightGBM] [Info] Number of data points in the train set: 10675678, number of used features: 4\n",
      "[LightGBM] [Info] Start training from score 0.299125\n",
      "Training until validation scores don't improve for 200 rounds\n",
      "[50]\ttraining's rmse: 1.17964\tvalid_1's rmse: 1.09497\n",
      "[100]\ttraining's rmse: 1.15067\tvalid_1's rmse: 1.06904\n",
      "[150]\ttraining's rmse: 1.13134\tvalid_1's rmse: 1.05245\n",
      "[200]\ttraining's rmse: 1.11805\tvalid_1's rmse: 1.04128\n",
      "[250]\ttraining's rmse: 1.10846\tvalid_1's rmse: 1.03412\n",
      "[300]\ttraining's rmse: 1.10111\tvalid_1's rmse: 1.02937\n",
      "[350]\ttraining's rmse: 1.09545\tvalid_1's rmse: 1.02588\n",
      "[400]\ttraining's rmse: 1.09079\tvalid_1's rmse: 1.02325\n",
      "[450]\ttraining's rmse: 1.08645\tvalid_1's rmse: 1.021\n",
      "[500]\ttraining's rmse: 1.08255\tvalid_1's rmse: 1.01863\n",
      "[550]\ttraining's rmse: 1.07911\tvalid_1's rmse: 1.01693\n",
      "[600]\ttraining's rmse: 1.07551\tvalid_1's rmse: 1.01507\n",
      "[650]\ttraining's rmse: 1.07242\tvalid_1's rmse: 1.01367\n",
      "[700]\ttraining's rmse: 1.06922\tvalid_1's rmse: 1.01246\n",
      "[750]\ttraining's rmse: 1.06566\tvalid_1's rmse: 1.0111\n",
      "[800]\ttraining's rmse: 1.06286\tvalid_1's rmse: 1.01028\n",
      "[850]\ttraining's rmse: 1.06041\tvalid_1's rmse: 1.00959\n",
      "[900]\ttraining's rmse: 1.05808\tvalid_1's rmse: 1.00898\n",
      "[950]\ttraining's rmse: 1.05596\tvalid_1's rmse: 1.00842\n",
      "[1000]\ttraining's rmse: 1.05413\tvalid_1's rmse: 1.00789\n",
      "[1050]\ttraining's rmse: 1.05237\tvalid_1's rmse: 1.0071\n",
      "[1100]\ttraining's rmse: 1.05078\tvalid_1's rmse: 1.00637\n",
      "[1150]\ttraining's rmse: 1.04932\tvalid_1's rmse: 1.00584\n",
      "[1200]\ttraining's rmse: 1.04786\tvalid_1's rmse: 1.00529\n",
      "[1250]\ttraining's rmse: 1.0465\tvalid_1's rmse: 1.00501\n",
      "[1300]\ttraining's rmse: 1.04514\tvalid_1's rmse: 1.00478\n",
      "[1350]\ttraining's rmse: 1.0439\tvalid_1's rmse: 1.00444\n",
      "[1400]\ttraining's rmse: 1.04266\tvalid_1's rmse: 1.00414\n",
      "[1450]\ttraining's rmse: 1.04147\tvalid_1's rmse: 1.00382\n",
      "[1500]\ttraining's rmse: 1.04041\tvalid_1's rmse: 1.00322\n",
      "Did not meet early stopping. Best iteration is:\n",
      "[1500]\ttraining's rmse: 1.04041\tvalid_1's rmse: 1.00322\n"
     ]
    }
   ],
   "source": [
    "# LightGBM 모델 훈련\n",
    "lgb_model = lgb.train(params=params,\n",
    "                      train_set=dtrain,\n",
    "                      num_boost_round=1500,\n",
    "                      valid_sets=(dtrain, dvalid),\n",
    "                      categorical_feature=cat_features,\n",
    "                      early_stopping_rounds=200,\n",
    "                      verbose_eval=50)  "
   ]
  },
  {
   "cell_type": "markdown",
   "metadata": {
    "papermill": {
     "duration": 0.025412,
     "end_time": "2021-09-11T07:48:11.311738",
     "exception": false,
     "start_time": "2021-09-11T07:48:11.286326",
     "status": "completed"
    },
    "tags": []
   },
   "source": [
    "### 예측 및 결과 제출"
   ]
  },
  {
   "cell_type": "code",
   "execution_count": 48,
   "metadata": {
    "execution": {
     "iopub.execute_input": "2023-03-21T01:30:35.974689Z",
     "iopub.status.busy": "2023-03-21T01:30:35.974406Z",
     "iopub.status.idle": "2023-03-21T01:30:42.894662Z",
     "shell.execute_reply": "2023-03-21T01:30:42.893583Z",
     "shell.execute_reply.started": "2023-03-21T01:30:35.974658Z"
    },
    "papermill": {
     "duration": 6.646588,
     "end_time": "2021-09-11T07:48:17.98359",
     "exception": false,
     "start_time": "2021-09-11T07:48:11.337002",
     "status": "completed"
    },
    "tags": []
   },
   "outputs": [],
   "source": [
    "# 예측\n",
    "preds = lgb_model.predict(X_test).clip(0, 20)\n",
    "# 제출 파일 생성\n",
    "submission['item_cnt_month'] = preds\n",
    "submission.to_csv('submission.csv', index=False)"
   ]
  },
  {
   "cell_type": "code",
   "execution_count": 42,
   "metadata": {},
   "outputs": [
    {
     "data": {
      "text/plain": [
       "214200"
      ]
     },
     "execution_count": 42,
     "metadata": {},
     "output_type": "execute_result"
    }
   ],
   "source": [
    "len(preds)"
   ]
  },
  {
   "cell_type": "code",
   "execution_count": 43,
   "metadata": {},
   "outputs": [
    {
     "data": {
      "text/plain": [
       "array([0.61958461, 0.44393639, 0.42120161, ..., 0.1139789 , 0.08863488,\n",
       "       0.08751282])"
      ]
     },
     "execution_count": 43,
     "metadata": {},
     "output_type": "execute_result"
    }
   ],
   "source": [
    "preds"
   ]
  },
  {
   "cell_type": "code",
   "execution_count": 44,
   "metadata": {},
   "outputs": [
    {
     "data": {
      "text/html": [
       "<div>\n",
       "<style scoped>\n",
       "    .dataframe tbody tr th:only-of-type {\n",
       "        vertical-align: middle;\n",
       "    }\n",
       "\n",
       "    .dataframe tbody tr th {\n",
       "        vertical-align: top;\n",
       "    }\n",
       "\n",
       "    .dataframe thead th {\n",
       "        text-align: right;\n",
       "    }\n",
       "</style>\n",
       "<table border=\"1\" class=\"dataframe\">\n",
       "  <thead>\n",
       "    <tr style=\"text-align: right;\">\n",
       "      <th></th>\n",
       "      <th>ID</th>\n",
       "      <th>item_cnt_month</th>\n",
       "    </tr>\n",
       "  </thead>\n",
       "  <tbody>\n",
       "    <tr>\n",
       "      <th>0</th>\n",
       "      <td>0</td>\n",
       "      <td>0.619585</td>\n",
       "    </tr>\n",
       "    <tr>\n",
       "      <th>1</th>\n",
       "      <td>1</td>\n",
       "      <td>0.443936</td>\n",
       "    </tr>\n",
       "    <tr>\n",
       "      <th>2</th>\n",
       "      <td>2</td>\n",
       "      <td>0.421202</td>\n",
       "    </tr>\n",
       "    <tr>\n",
       "      <th>3</th>\n",
       "      <td>3</td>\n",
       "      <td>0.385909</td>\n",
       "    </tr>\n",
       "    <tr>\n",
       "      <th>4</th>\n",
       "      <td>4</td>\n",
       "      <td>0.552047</td>\n",
       "    </tr>\n",
       "    <tr>\n",
       "      <th>...</th>\n",
       "      <td>...</td>\n",
       "      <td>...</td>\n",
       "    </tr>\n",
       "    <tr>\n",
       "      <th>214195</th>\n",
       "      <td>214195</td>\n",
       "      <td>0.109116</td>\n",
       "    </tr>\n",
       "    <tr>\n",
       "      <th>214196</th>\n",
       "      <td>214196</td>\n",
       "      <td>0.108321</td>\n",
       "    </tr>\n",
       "    <tr>\n",
       "      <th>214197</th>\n",
       "      <td>214197</td>\n",
       "      <td>0.113979</td>\n",
       "    </tr>\n",
       "    <tr>\n",
       "      <th>214198</th>\n",
       "      <td>214198</td>\n",
       "      <td>0.088635</td>\n",
       "    </tr>\n",
       "    <tr>\n",
       "      <th>214199</th>\n",
       "      <td>214199</td>\n",
       "      <td>0.087513</td>\n",
       "    </tr>\n",
       "  </tbody>\n",
       "</table>\n",
       "<p>214200 rows × 2 columns</p>\n",
       "</div>"
      ],
      "text/plain": [
       "            ID  item_cnt_month\n",
       "0            0        0.619585\n",
       "1            1        0.443936\n",
       "2            2        0.421202\n",
       "3            3        0.385909\n",
       "4            4        0.552047\n",
       "...        ...             ...\n",
       "214195  214195        0.109116\n",
       "214196  214196        0.108321\n",
       "214197  214197        0.113979\n",
       "214198  214198        0.088635\n",
       "214199  214199        0.087513\n",
       "\n",
       "[214200 rows x 2 columns]"
      ]
     },
     "execution_count": 44,
     "metadata": {},
     "output_type": "execute_result"
    }
   ],
   "source": [
    "submission"
   ]
  },
  {
   "cell_type": "code",
   "execution_count": null,
   "metadata": {},
   "outputs": [],
   "source": []
  },
  {
   "cell_type": "code",
   "execution_count": 45,
   "metadata": {},
   "outputs": [],
   "source": [
    "# del X_train, y_train, X_valid, y_valid, X_test, lgb_model, dtrain, dvalid\n",
    "# gc.collect();"
   ]
  },
  {
   "cell_type": "code",
   "execution_count": 46,
   "metadata": {},
   "outputs": [],
   "source": [
    "from sklearn.metrics import r2_score"
   ]
  },
  {
   "cell_type": "code",
   "execution_count": 47,
   "metadata": {},
   "outputs": [
    {
     "data": {
      "text/plain": [
       "-0.0702806385578627"
      ]
     },
     "execution_count": 47,
     "metadata": {},
     "output_type": "execute_result"
    }
   ],
   "source": [
    "y_test = total_data[total_data['월ID'] == 30]['월간 판매량']\n",
    "y_test = y_test[:214200]\n",
    "r2_score(y_test, preds)"
   ]
  },
  {
   "cell_type": "code",
   "execution_count": null,
   "metadata": {},
   "outputs": [],
   "source": []
  }
 ],
 "metadata": {
  "kernelspec": {
   "display_name": "py39",
   "language": "python",
   "name": "py39"
  },
  "language_info": {
   "codemirror_mode": {
    "name": "ipython",
    "version": 3
   },
   "file_extension": ".py",
   "mimetype": "text/x-python",
   "name": "python",
   "nbconvert_exporter": "python",
   "pygments_lexer": "ipython3",
   "version": "3.9.15"
  }
 },
 "nbformat": 4,
 "nbformat_minor": 4
}
