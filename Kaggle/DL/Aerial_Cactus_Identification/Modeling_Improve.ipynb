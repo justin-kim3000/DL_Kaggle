{
 "cells": [
  {
   "cell_type": "code",
   "execution_count": 28,
   "metadata": {},
   "outputs": [],
   "source": [
    "import torch # 파이토치 \n",
    "import random\n",
    "import numpy as np\n",
    "import os\n",
    "\n",
    "# 시드 값 고정\n",
    "seed = 50\n",
    "os.environ['PYTHONHASHSEED'] = str(seed)\n",
    "random.seed(seed)\n",
    "np.random.seed(seed)\n",
    "torch.manual_seed(seed)\n",
    "torch.cuda.manual_seed(seed)\n",
    "torch.cuda.manual_seed_all(seed)\n",
    "torch.backends.cudnn.deterministic = True\n",
    "torch.backends.cudnn.benchmark = False\n",
    "torch.backends.cudnn.enabled = False"
   ]
  },
  {
   "cell_type": "code",
   "execution_count": 2,
   "metadata": {},
   "outputs": [],
   "source": [
    "device = torch.device('cuda' if torch.cuda.is_available() else 'cpu')"
   ]
  },
  {
   "cell_type": "code",
   "execution_count": 3,
   "metadata": {},
   "outputs": [
    {
     "data": {
      "text/plain": [
       "device(type='cuda')"
      ]
     },
     "execution_count": 3,
     "metadata": {},
     "output_type": "execute_result"
    }
   ],
   "source": [
    "device"
   ]
  },
  {
   "cell_type": "code",
   "execution_count": 29,
   "metadata": {},
   "outputs": [],
   "source": [
    "from zipfile import ZipFile\n",
    "\n",
    "# 훈련 이미지 데이터 압축 풀기\n",
    "with ZipFile('train.zip') as zipper:\n",
    "    zipper.extractall()\n",
    "    \n",
    "# 테스트 이미지 데이터 압축 풀기\n",
    "with ZipFile('test.zip') as zipper:\n",
    "    zipper.extractall()"
   ]
  },
  {
   "cell_type": "code",
   "execution_count": 4,
   "metadata": {},
   "outputs": [],
   "source": [
    "labels = pd.read_csv('train.csv')\n",
    "submission= pd.read_csv('sample_submission.csv')"
   ]
  },
  {
   "cell_type": "code",
   "execution_count": 5,
   "metadata": {},
   "outputs": [
    {
     "data": {
      "text/html": [
       "<div>\n",
       "<style scoped>\n",
       "    .dataframe tbody tr th:only-of-type {\n",
       "        vertical-align: middle;\n",
       "    }\n",
       "\n",
       "    .dataframe tbody tr th {\n",
       "        vertical-align: top;\n",
       "    }\n",
       "\n",
       "    .dataframe thead th {\n",
       "        text-align: right;\n",
       "    }\n",
       "</style>\n",
       "<table border=\"1\" class=\"dataframe\">\n",
       "  <thead>\n",
       "    <tr style=\"text-align: right;\">\n",
       "      <th></th>\n",
       "      <th>id</th>\n",
       "      <th>has_cactus</th>\n",
       "    </tr>\n",
       "  </thead>\n",
       "  <tbody>\n",
       "    <tr>\n",
       "      <th>0</th>\n",
       "      <td>0004be2cfeaba1c0361d39e2b000257b.jpg</td>\n",
       "      <td>1</td>\n",
       "    </tr>\n",
       "    <tr>\n",
       "      <th>1</th>\n",
       "      <td>000c8a36845c0208e833c79c1bffedd1.jpg</td>\n",
       "      <td>1</td>\n",
       "    </tr>\n",
       "    <tr>\n",
       "      <th>2</th>\n",
       "      <td>000d1e9a533f62e55c289303b072733d.jpg</td>\n",
       "      <td>1</td>\n",
       "    </tr>\n",
       "    <tr>\n",
       "      <th>3</th>\n",
       "      <td>0011485b40695e9138e92d0b3fb55128.jpg</td>\n",
       "      <td>1</td>\n",
       "    </tr>\n",
       "    <tr>\n",
       "      <th>4</th>\n",
       "      <td>0014d7a11e90b62848904c1418fc8cf2.jpg</td>\n",
       "      <td>1</td>\n",
       "    </tr>\n",
       "  </tbody>\n",
       "</table>\n",
       "</div>"
      ],
      "text/plain": [
       "                                     id  has_cactus\n",
       "0  0004be2cfeaba1c0361d39e2b000257b.jpg           1\n",
       "1  000c8a36845c0208e833c79c1bffedd1.jpg           1\n",
       "2  000d1e9a533f62e55c289303b072733d.jpg           1\n",
       "3  0011485b40695e9138e92d0b3fb55128.jpg           1\n",
       "4  0014d7a11e90b62848904c1418fc8cf2.jpg           1"
      ]
     },
     "execution_count": 5,
     "metadata": {},
     "output_type": "execute_result"
    }
   ],
   "source": [
    "labels.head()"
   ]
  },
  {
   "cell_type": "code",
   "execution_count": 6,
   "metadata": {},
   "outputs": [
    {
     "name": "stdout",
     "output_type": "stream",
     "text": [
      "<class 'pandas.core.frame.DataFrame'>\n",
      "RangeIndex: 17500 entries, 0 to 17499\n",
      "Data columns (total 2 columns):\n",
      " #   Column      Non-Null Count  Dtype \n",
      "---  ------      --------------  ----- \n",
      " 0   id          17500 non-null  object\n",
      " 1   has_cactus  17500 non-null  int64 \n",
      "dtypes: int64(1), object(1)\n",
      "memory usage: 273.6+ KB\n"
     ]
    }
   ],
   "source": [
    "labels.info()"
   ]
  },
  {
   "cell_type": "code",
   "execution_count": 30,
   "metadata": {},
   "outputs": [],
   "source": [
    "from sklearn.model_selection import train_test_split\n",
    "\n",
    "# 훈련 데이터, 검증 데이터 분리\n",
    "_, valid = train_test_split(labels, \n",
    "                            test_size=0.1,\n",
    "                            stratify=labels['has_cactus'],\n",
    "                            random_state=50)"
   ]
  },
  {
   "cell_type": "code",
   "execution_count": 8,
   "metadata": {},
   "outputs": [],
   "source": [
    "# OpenCV 라이브러리\n",
    "import cv2\n",
    "# 데이터 생성\n",
    "from torch.utils.data import Dataset"
   ]
  },
  {
   "cell_type": "code",
   "execution_count": 31,
   "metadata": {},
   "outputs": [],
   "source": [
    "import cv2 # OpenCV 라이브러리\n",
    "from torch.utils.data import Dataset # 데이터 생성을 위한 클래스\n",
    "\n",
    "class ImageDataset(Dataset):\n",
    "    # 초기화 메서드(생성자)\n",
    "    def __init__(self, df, img_dir='./', transform=None):\n",
    "        super().__init__() # 상속받은 Dataset의 생성자 호출\n",
    "        # 전달받은 인수들 저장\n",
    "        self.df = df\n",
    "        self.img_dir = img_dir\n",
    "        self.transform = transform\n",
    "    \n",
    "    # 데이터셋 크기 반환 메서드 \n",
    "    def __len__(self):\n",
    "        return len(self.df)\n",
    "    \n",
    "    # 인덱스(idx)에 해당하는 데이터 반환 메서드 \n",
    "    def __getitem__(self, idx):\n",
    "        img_id = self.df.iloc[idx, 0]    # 이미지 ID\n",
    "        img_path = self.img_dir + img_id # 이미지 파일 경로 \n",
    "        image = cv2.imread(img_path)     # 이미지 파일 읽기 \n",
    "        image = cv2.cvtColor(image, cv2.COLOR_BGR2RGB) # 이미지 색상 보정\n",
    "        label = self.df.iloc[idx, 1]     # 이미지 레이블(타깃값)\n",
    "\n",
    "        if self.transform is not None:\n",
    "            image = self.transform(image) # 변환기가 있다면 이미지 변환\n",
    "        return image, label"
   ]
  },
  {
   "cell_type": "markdown",
   "metadata": {},
   "source": [
    "### 이미지 변환기 정의"
   ]
  },
  {
   "cell_type": "code",
   "execution_count": 32,
   "metadata": {},
   "outputs": [],
   "source": [
    "from torchvision import transforms # 이미지 변환을 위한 모듈\n",
    "\n",
    "# 훈련 데이터용 변환기\n",
    "transform_train = transforms.Compose([transforms.ToTensor(),\n",
    "                                      transforms.Pad(32, padding_mode='symmetric'),\n",
    "                                      transforms.RandomHorizontalFlip(),\n",
    "                                      transforms.RandomVerticalFlip(),\n",
    "                                      transforms.RandomRotation(10),\n",
    "                                      transforms.Normalize((0.485, 0.456, 0.406),\n",
    "                                                           (0.229, 0.224, 0.225))])\n",
    "\n",
    "# 검증 및 테스트 데이터용 변환기\n",
    "transform_test= transforms.Compose([transforms.ToTensor(),\n",
    "                                    transforms.Pad(32, padding_mode='symmetric'),\n",
    "                                    transforms.Normalize((0.485, 0.456, 0.406),\n",
    "                                                         (0.229, 0.224, 0.225))])"
   ]
  },
  {
   "cell_type": "markdown",
   "metadata": {},
   "source": [
    "### 데이터셋 및 데이터 로더 생성"
   ]
  },
  {
   "cell_type": "code",
   "execution_count": 33,
   "metadata": {},
   "outputs": [],
   "source": [
    "dataset_train = ImageDataset(df=labels, img_dir='train/', transform=transform_train)\n",
    "dataset_valid = ImageDataset(df=valid, img_dir='train/', transform=transform_test)"
   ]
  },
  {
   "cell_type": "code",
   "execution_count": 34,
   "metadata": {},
   "outputs": [],
   "source": [
    "from torch.utils.data import DataLoader # 데이터 로더 클래스\n",
    "\n",
    "loader_train = DataLoader(dataset=dataset_train, batch_size=32, shuffle=True)\n",
    "loader_valid = DataLoader(dataset=dataset_valid, batch_size=32, shuffle=False)"
   ]
  },
  {
   "cell_type": "markdown",
   "metadata": {},
   "source": [
    "# 모델 생성"
   ]
  },
  {
   "cell_type": "code",
   "execution_count": 35,
   "metadata": {},
   "outputs": [],
   "source": [
    "import torch.nn as nn # 신경망 모듈\n",
    "import torch.nn.functional as F # 신경망 모듈에서 자주 사용되는 함수\n",
    "\n",
    "class Model(nn.Module):\n",
    "    # 신경망 계층 정의\n",
    "    def __init__(self):\n",
    "        super().__init__() # 상속받은 nn.Module의 __init__() 메서드 호출\n",
    "        # 1 ~ 5번째 {합성곱, 배치 정규화, 최대 풀링} 계층 \n",
    "        self.layer1 = nn.Sequential(nn.Conv2d(in_channels=3, out_channels=32,\n",
    "                                              kernel_size=3, padding=2),\n",
    "                                    nn.BatchNorm2d(32), # 배치 정규화\n",
    "                                    nn.LeakyReLU(), # LeakyReLU 활성화 함수\n",
    "                                    nn.MaxPool2d(kernel_size=2))\n",
    "\n",
    "        self.layer2 = nn.Sequential(nn.Conv2d(in_channels=32, out_channels=64,\n",
    "                                              kernel_size=3, padding=2),\n",
    "                                    nn.BatchNorm2d(64),\n",
    "                                    nn.LeakyReLU(),\n",
    "                                    nn.MaxPool2d(kernel_size=2))\n",
    "        \n",
    "        self.layer3 = nn.Sequential(nn.Conv2d(in_channels=64, out_channels=128,\n",
    "                                              kernel_size=3, padding=2),\n",
    "                                    nn.BatchNorm2d(128),\n",
    "                                    nn.LeakyReLU(),\n",
    "                                    nn.MaxPool2d(kernel_size=2))\n",
    "        \n",
    "        self.layer4 = nn.Sequential(nn.Conv2d(in_channels=128, out_channels=256,\n",
    "                                              kernel_size=3, padding=2),\n",
    "                                    nn.BatchNorm2d(256),\n",
    "                                    nn.LeakyReLU(),\n",
    "                                    nn.MaxPool2d(kernel_size=2))\n",
    "        \n",
    "        self.layer5 = nn.Sequential(nn.Conv2d(in_channels=256, out_channels=512,\n",
    "                                              kernel_size=3, padding=2),\n",
    "                                    nn.BatchNorm2d(512),\n",
    "                                    nn.LeakyReLU(),\n",
    "                                    nn.MaxPool2d(kernel_size=2))\n",
    "        # 평균 풀링 계층 \n",
    "        self.avg_pool = nn.AvgPool2d(kernel_size=4) \n",
    "        # 전결합 계층\n",
    "        self.fc1 = nn.Linear(in_features=512 * 1 * 1, out_features=64)\n",
    "        self.fc2 = nn.Linear(in_features=64, out_features=2)\n",
    "\n",
    "    # 순전파 출력 정의 \n",
    "    def forward(self, x):\n",
    "        x = self.layer1(x)\n",
    "        x = self.layer2(x)\n",
    "        x = self.layer3(x)\n",
    "        x = self.layer4(x)\n",
    "        x = self.layer5(x)\n",
    "        x = self.avg_pool(x)\n",
    "        x = x.view(-1, 512 * 1 * 1) # 평탄화\n",
    "        x = self.fc1(x)\n",
    "        x = self.fc2(x)\n",
    "        return x"
   ]
  },
  {
   "cell_type": "code",
   "execution_count": 36,
   "metadata": {},
   "outputs": [],
   "source": [
    "model = Model().to(device)"
   ]
  },
  {
   "cell_type": "markdown",
   "metadata": {},
   "source": [
    "# 모델 훈련\n",
    "### 손실 함수와 옵티마이저 설정"
   ]
  },
  {
   "cell_type": "code",
   "execution_count": 37,
   "metadata": {},
   "outputs": [],
   "source": [
    "# 손실함수\n",
    "criterion = nn.CrossEntropyLoss()"
   ]
  },
  {
   "cell_type": "code",
   "execution_count": 38,
   "metadata": {},
   "outputs": [],
   "source": [
    "# 옵티마이저\n",
    "optimizer = torch.optim.Adamax(model.parameters(), lr=0.00006)"
   ]
  },
  {
   "cell_type": "code",
   "execution_count": 39,
   "metadata": {},
   "outputs": [
    {
     "name": "stdout",
     "output_type": "stream",
     "text": [
      "에폭 [1/70] - 손실값: 0.1272\n"
     ]
    },
    {
     "ename": "KeyboardInterrupt",
     "evalue": "",
     "output_type": "error",
     "traceback": [
      "\u001b[1;31m---------------------------------------------------------------------------\u001b[0m",
      "\u001b[1;31mKeyboardInterrupt\u001b[0m                         Traceback (most recent call last)",
      "Cell \u001b[1;32mIn[39], line 21\u001b[0m\n\u001b[0;32m     19\u001b[0m loss \u001b[38;5;241m=\u001b[39m criterion(outputs, labels)\n\u001b[0;32m     20\u001b[0m \u001b[38;5;66;03m# 현재 배치에서의 손실 추가\u001b[39;00m\n\u001b[1;32m---> 21\u001b[0m epoch_loss \u001b[38;5;241m+\u001b[39m\u001b[38;5;241m=\u001b[39m \u001b[43mloss\u001b[49m\u001b[38;5;241;43m.\u001b[39;49m\u001b[43mitem\u001b[49m\u001b[43m(\u001b[49m\u001b[43m)\u001b[49m \n\u001b[0;32m     22\u001b[0m \u001b[38;5;66;03m# 역전파 수행\u001b[39;00m\n\u001b[0;32m     23\u001b[0m loss\u001b[38;5;241m.\u001b[39mbackward()\n",
      "\u001b[1;31mKeyboardInterrupt\u001b[0m: "
     ]
    }
   ],
   "source": [
    "epochs = 70 # 총 에폭\n",
    "\n",
    "# 총 에폭만큼 반복\n",
    "for epoch in range(epochs):\n",
    "    epoch_loss = 0 # 에폭별 손실값 초기화\n",
    "    \n",
    "    # '반복 횟수'만큼 반복 \n",
    "    for images, labels in loader_train:\n",
    "        # 이미지, 레이블 데이터 미니배치를 장비에 할당 \n",
    "        \n",
    "        images = images.to(device)\n",
    "        labels = labels.to(device)\n",
    "        \n",
    "        # 옵티마이저 내 기울기 초기화\n",
    "        optimizer.zero_grad()\n",
    "        # 순전파 : 이미지 데이터를 신경망 모델의 입력값으로 사용해 출력값 계산\n",
    "        outputs = model(images)\n",
    "        # 손실 함수를 활용해 outputs와 labels의 손실값 계산\n",
    "        loss = criterion(outputs, labels)\n",
    "        # 현재 배치에서의 손실 추가\n",
    "        epoch_loss += loss.item() \n",
    "        # 역전파 수행\n",
    "        loss.backward()\n",
    "        # 가중치 갱신\n",
    "        optimizer.step()\n",
    "        \n",
    "    print(f'에폭 [{epoch+1}/{epochs}] - 손실값: {epoch_loss/len(loader_train):.4f}')    "
   ]
  },
  {
   "cell_type": "code",
   "execution_count": null,
   "metadata": {},
   "outputs": [],
   "source": []
  },
  {
   "cell_type": "code",
   "execution_count": null,
   "metadata": {},
   "outputs": [],
   "source": []
  },
  {
   "cell_type": "code",
   "execution_count": null,
   "metadata": {},
   "outputs": [],
   "source": []
  },
  {
   "cell_type": "code",
   "execution_count": null,
   "metadata": {},
   "outputs": [],
   "source": []
  },
  {
   "cell_type": "code",
   "execution_count": null,
   "metadata": {},
   "outputs": [],
   "source": []
  },
  {
   "cell_type": "code",
   "execution_count": null,
   "metadata": {},
   "outputs": [],
   "source": []
  },
  {
   "cell_type": "code",
   "execution_count": null,
   "metadata": {},
   "outputs": [],
   "source": []
  }
 ],
 "metadata": {
  "kernelspec": {
   "display_name": "Python 3 (ipykernel)",
   "language": "python",
   "name": "python3"
  },
  "language_info": {
   "codemirror_mode": {
    "name": "ipython",
    "version": 3
   },
   "file_extension": ".py",
   "mimetype": "text/x-python",
   "name": "python",
   "nbconvert_exporter": "python",
   "pygments_lexer": "ipython3",
   "version": "3.9.16"
  }
 },
 "nbformat": 4,
 "nbformat_minor": 2
}
