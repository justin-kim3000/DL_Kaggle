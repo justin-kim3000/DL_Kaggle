{
 "cells": [
  {
   "cell_type": "markdown",
   "metadata": {
    "papermill": {
     "duration": 0.02532,
     "end_time": "2021-07-31T09:04:08.920563",
     "exception": false,
     "start_time": "2021-07-31T09:04:08.895243",
     "status": "completed"
    },
    "tags": []
   },
   "source": [
    "# 11.3 항공 사진 내 선인장 식별 경진대회 베이스라인 모델\n",
    "- [항공 사진 내 선인장 식별 경진대회 링크](https://www.kaggle.com/c/aerial-cactus-identification)\n",
    "- [베이스라인 코드 참고 링크](https://www.kaggle.com/bonhart/simple-cnn-on-pytorch-for-beginers)"
   ]
  },
  {
   "cell_type": "markdown",
   "metadata": {
    "papermill": {
     "duration": 0.023613,
     "end_time": "2021-07-31T09:04:12.28256",
     "exception": false,
     "start_time": "2021-07-31T09:04:12.258947",
     "status": "completed"
    },
    "tags": []
   },
   "source": [
    "## 11.3.1 시드 값 고정 및 GPU 장비 설정"
   ]
  },
  {
   "cell_type": "markdown",
   "metadata": {
    "papermill": {
     "duration": 0.023755,
     "end_time": "2021-07-31T09:04:12.330945",
     "exception": false,
     "start_time": "2021-07-31T09:04:12.30719",
     "status": "completed"
    },
    "tags": []
   },
   "source": [
    "### 시드 값 고정"
   ]
  },
  {
   "cell_type": "code",
   "execution_count": 1,
   "metadata": {
    "execution": {
     "iopub.execute_input": "2023-02-24T02:23:38.289229Z",
     "iopub.status.busy": "2023-02-24T02:23:38.288639Z",
     "iopub.status.idle": "2023-02-24T02:23:42.777008Z",
     "shell.execute_reply": "2023-02-24T02:23:42.776221Z",
     "shell.execute_reply.started": "2023-02-24T02:23:38.289158Z"
    },
    "papermill": {
     "duration": 1.21289,
     "end_time": "2021-07-31T09:04:13.568408",
     "exception": false,
     "start_time": "2021-07-31T09:04:12.355518",
     "status": "completed"
    },
    "tags": []
   },
   "outputs": [],
   "source": [
    "import torch # 파이토치 \n",
    "import random\n",
    "import numpy as np\n",
    "import os\n",
    "\n",
    "# 시드값 고정\n",
    "seed = 50\n",
    "os.environ['PYTHONHASHSEED'] = str(seed)\n",
    "random.seed(seed)                # 파이썬 난수 생성기 시드 고정\n",
    "np.random.seed(seed)             # 넘파이 난수 생성기 시드 고정\n",
    "torch.manual_seed(seed)          # 파이토치 난수 생성기 시드 고정 (CPU 사용 시)\n",
    "torch.cuda.manual_seed(seed)     # 파이토치 난수 생성기 시드 고정 (GPU 사용 시)\n",
    "torch.cuda.manual_seed_all(seed) # 파이토치 난수 생성기 시드 고정 (멀티GPU 사용 시)\n",
    "torch.backends.cudnn.deterministic = True # 확정적 연산 사용\n",
    "torch.backends.cudnn.benchmark = False    # 벤치마크 기능 해제\n",
    "torch.backends.cudnn.enabled = False      # cudnn 사용 해제|"
   ]
  },
  {
   "cell_type": "markdown",
   "metadata": {
    "papermill": {
     "duration": 0.023426,
     "end_time": "2021-07-31T09:04:13.616103",
     "exception": false,
     "start_time": "2021-07-31T09:04:13.592677",
     "status": "completed"
    },
    "tags": []
   },
   "source": [
    "### GPU 장비 설정"
   ]
  },
  {
   "cell_type": "code",
   "execution_count": 2,
   "metadata": {
    "execution": {
     "iopub.execute_input": "2023-02-24T02:23:42.778701Z",
     "iopub.status.busy": "2023-02-24T02:23:42.778448Z",
     "iopub.status.idle": "2023-02-24T02:23:42.852375Z",
     "shell.execute_reply": "2023-02-24T02:23:42.851655Z",
     "shell.execute_reply.started": "2023-02-24T02:23:42.778660Z"
    },
    "papermill": {
     "duration": 0.068531,
     "end_time": "2021-07-31T09:04:13.708241",
     "exception": false,
     "start_time": "2021-07-31T09:04:13.63971",
     "status": "completed"
    },
    "tags": []
   },
   "outputs": [],
   "source": [
    "if torch.cuda.is_available():\n",
    "    device = torch.device('cuda')\n",
    "else:\n",
    "    device = torch.device('cpu')"
   ]
  },
  {
   "cell_type": "code",
   "execution_count": 3,
   "metadata": {
    "execution": {
     "iopub.execute_input": "2023-02-24T02:23:42.854001Z",
     "iopub.status.busy": "2023-02-24T02:23:42.853552Z",
     "iopub.status.idle": "2023-02-24T02:23:42.864998Z",
     "shell.execute_reply": "2023-02-24T02:23:42.864327Z",
     "shell.execute_reply.started": "2023-02-24T02:23:42.853961Z"
    },
    "papermill": {
     "duration": 0.033612,
     "end_time": "2021-07-31T09:04:13.765809",
     "exception": false,
     "start_time": "2021-07-31T09:04:13.732197",
     "status": "completed"
    },
    "tags": []
   },
   "outputs": [
    {
     "data": {
      "text/plain": [
       "device(type='cpu')"
      ]
     },
     "execution_count": 3,
     "metadata": {},
     "output_type": "execute_result"
    }
   ],
   "source": [
    "device"
   ]
  },
  {
   "cell_type": "markdown",
   "metadata": {
    "papermill": {
     "duration": 0.023564,
     "end_time": "2021-07-31T09:04:13.813528",
     "exception": false,
     "start_time": "2021-07-31T09:04:13.789964",
     "status": "completed"
    },
    "tags": []
   },
   "source": [
    "## 11.3.2 데이터 준비"
   ]
  },
  {
   "cell_type": "code",
   "execution_count": 4,
   "metadata": {
    "execution": {
     "iopub.execute_input": "2023-02-24T02:23:42.867797Z",
     "iopub.status.busy": "2023-02-24T02:23:42.867248Z",
     "iopub.status.idle": "2023-02-24T02:23:42.923229Z",
     "shell.execute_reply": "2023-02-24T02:23:42.922522Z",
     "shell.execute_reply.started": "2023-02-24T02:23:42.867764Z"
    },
    "papermill": {
     "duration": 0.187199,
     "end_time": "2021-07-31T09:04:09.188051",
     "exception": false,
     "start_time": "2021-07-31T09:04:09.000852",
     "status": "completed"
    },
    "tags": []
   },
   "outputs": [],
   "source": [
    "import pandas as pd\n",
    "from sklearn.model_selection import train_test_split\n",
    "\n",
    "data_path = 'data/'\n",
    "labels = pd.read_csv(data_path + 'train.csv')\n",
    "submission = pd.read_csv(data_path + 'sample_submission.csv')\n",
    "\n",
    "train, valid = train_test_split(labels, \n",
    "                                test_size=0.2,\n",
    "                                stratify=labels['has_cactus'],\n",
    "                                random_state=50)\n"
   ]
  },
  {
   "cell_type": "code",
   "execution_count": 5,
   "metadata": {},
   "outputs": [
    {
     "name": "stdout",
     "output_type": "stream",
     "text": [
      "훈련 데이터 개수: 14000\n",
      "검증 데이터 개수: 3500\n"
     ]
    }
   ],
   "source": [
    "print('훈련 데이터 개수:', len(train))\n",
    "print('검증 데이터 개수:', len(valid))"
   ]
  },
  {
   "cell_type": "markdown",
   "metadata": {
    "papermill": {
     "duration": 0.023601,
     "end_time": "2021-07-31T09:04:13.861072",
     "exception": false,
     "start_time": "2021-07-31T09:04:13.837471",
     "status": "completed"
    },
    "tags": []
   },
   "source": [
    "### 훈련 데이터, 검증 데이터 분리"
   ]
  },
  {
   "cell_type": "code",
   "execution_count": 6,
   "metadata": {
    "_uuid": "c07eab67e573c7de05e11065b5bafc1bbff284fb",
    "execution": {
     "iopub.execute_input": "2023-02-24T02:23:46.012065Z",
     "iopub.status.busy": "2023-02-24T02:23:46.011808Z",
     "iopub.status.idle": "2023-02-24T02:23:46.830620Z",
     "shell.execute_reply": "2023-02-24T02:23:46.829793Z",
     "shell.execute_reply.started": "2023-02-24T02:23:46.012031Z"
    },
    "papermill": {
     "duration": 0.855794,
     "end_time": "2021-07-31T09:04:14.741824",
     "exception": false,
     "start_time": "2021-07-31T09:04:13.88603",
     "status": "completed"
    },
    "tags": []
   },
   "outputs": [],
   "source": [
    "from sklearn.model_selection import train_test_split\n",
    "\n",
    "# 훈련 데이터, 검증 데이터 분리\n",
    "train, valid = train_test_split(labels, \n",
    "                                test_size=0.2,\n",
    "                                stratify=labels['has_cactus'],\n",
    "                                random_state=50)"
   ]
  },
  {
   "cell_type": "code",
   "execution_count": 7,
   "metadata": {
    "execution": {
     "iopub.execute_input": "2023-02-24T02:23:46.832290Z",
     "iopub.status.busy": "2023-02-24T02:23:46.832037Z",
     "iopub.status.idle": "2023-02-24T02:23:46.839693Z",
     "shell.execute_reply": "2023-02-24T02:23:46.838890Z",
     "shell.execute_reply.started": "2023-02-24T02:23:46.832257Z"
    },
    "papermill": {
     "duration": 0.034192,
     "end_time": "2021-07-31T09:04:14.80123",
     "exception": false,
     "start_time": "2021-07-31T09:04:14.767038",
     "status": "completed"
    },
    "tags": []
   },
   "outputs": [
    {
     "name": "stdout",
     "output_type": "stream",
     "text": [
      "훈련 데이터 개수: 14000\n",
      "검증 데이터 개수: 3500\n"
     ]
    }
   ],
   "source": []
  },
  {
   "cell_type": "markdown",
   "metadata": {
    "papermill": {
     "duration": 0.023954,
     "end_time": "2021-07-31T09:04:14.849397",
     "exception": false,
     "start_time": "2021-07-31T09:04:14.825443",
     "status": "completed"
    },
    "tags": []
   },
   "source": [
    "### 데이터셋 클래스 정의"
   ]
  },
  {
   "cell_type": "code",
   "execution_count": 8,
   "metadata": {
    "_uuid": "1b05af8d59d9d5b092e96f72dfebb19591416de9",
    "execution": {
     "iopub.execute_input": "2023-02-24T02:23:46.841603Z",
     "iopub.status.busy": "2023-02-24T02:23:46.841095Z",
     "iopub.status.idle": "2023-02-24T02:23:46.964752Z",
     "shell.execute_reply": "2023-02-24T02:23:46.963992Z",
     "shell.execute_reply.started": "2023-02-24T02:23:46.841568Z"
    },
    "papermill": {
     "duration": 0.162461,
     "end_time": "2021-07-31T09:04:15.036295",
     "exception": false,
     "start_time": "2021-07-31T09:04:14.873834",
     "status": "completed"
    },
    "tags": []
   },
   "outputs": [],
   "source": [
    "import cv2\n",
    "from torch.utils.data import Dataset\n",
    "\n",
    "class ImageDataset(Dataset):\n",
    "    def __init__(self, df, img_dir='./', transform=None):\n",
    "        super().__init__()\n",
    "        self.df = df\n",
    "        self.img_dir = img_dir\n",
    "        self.transform = transform\n",
    "    \n",
    "    def __len__(self):\n",
    "        return len(self.df)\n",
    "    \n",
    "    # 인덱스(idx)에 해당하는 데이터  \n",
    "    def __getitem__(self, idx):\n",
    "        img_id = self.df.iloc[idx, 0]    # 이미지 ID\n",
    "        img_path = self.img_dir + img_id # 이미지 파일 경로 \n",
    "        image = cv2.imread(img_path)     # 이미지 파일 읽기 \n",
    "        image = cv2.cvtColor(image, cv2.COLOR_BGR2RGB) # 이미지 색상 보정\n",
    "        label = self.df.iloc[idx, 1]     # 이미지 레이블(타깃값)\n",
    "\n",
    "        if self.transform is not None:\n",
    "            image = self.transform(image) # 변환기가 있다면 이미지 변환\n",
    "        return image, label"
   ]
  },
  {
   "cell_type": "markdown",
   "metadata": {
    "papermill": {
     "duration": 0.024107,
     "end_time": "2021-07-31T09:04:15.084994",
     "exception": false,
     "start_time": "2021-07-31T09:04:15.060887",
     "status": "completed"
    },
    "tags": []
   },
   "source": [
    "### 데이터셋 생성"
   ]
  },
  {
   "cell_type": "code",
   "execution_count": 9,
   "metadata": {
    "execution": {
     "iopub.execute_input": "2023-02-24T02:23:46.966428Z",
     "iopub.status.busy": "2023-02-24T02:23:46.966135Z",
     "iopub.status.idle": "2023-02-24T02:23:47.097707Z",
     "shell.execute_reply": "2023-02-24T02:23:47.097033Z",
     "shell.execute_reply.started": "2023-02-24T02:23:46.966374Z"
    },
    "papermill": {
     "duration": 0.142632,
     "end_time": "2021-07-31T09:04:15.251903",
     "exception": false,
     "start_time": "2021-07-31T09:04:15.109271",
     "status": "completed"
    },
    "tags": []
   },
   "outputs": [],
   "source": [
    "from torchvision import transforms # 이미지 변환을 위한 모듈\n",
    "\n",
    "transform = transforms.ToTensor()"
   ]
  },
  {
   "cell_type": "code",
   "execution_count": 10,
   "metadata": {
    "execution": {
     "iopub.execute_input": "2023-02-24T02:23:47.100942Z",
     "iopub.status.busy": "2023-02-24T02:23:47.100671Z",
     "iopub.status.idle": "2023-02-24T02:23:47.106905Z",
     "shell.execute_reply": "2023-02-24T02:23:47.106206Z",
     "shell.execute_reply.started": "2023-02-24T02:23:47.100906Z"
    },
    "papermill": {
     "duration": 0.03091,
     "end_time": "2021-07-31T09:04:15.307945",
     "exception": false,
     "start_time": "2021-07-31T09:04:15.277035",
     "status": "completed"
    },
    "tags": []
   },
   "outputs": [],
   "source": [
    "dataset_train = ImageDataset(df=train, img_dir='train/', transform=transform)\n",
    "dataset_valid = ImageDataset(df=valid, img_dir='train/', transform=transform)"
   ]
  },
  {
   "cell_type": "markdown",
   "metadata": {},
   "source": [
    "### 데이터 로더 생성"
   ]
  },
  {
   "cell_type": "code",
   "execution_count": 11,
   "metadata": {
    "_uuid": "c247391c28497ad35c72f5218398ea71f2d0d5ff",
    "execution": {
     "iopub.execute_input": "2023-02-24T02:23:47.109261Z",
     "iopub.status.busy": "2023-02-24T02:23:47.108593Z",
     "iopub.status.idle": "2023-02-24T02:23:47.115676Z",
     "shell.execute_reply": "2023-02-24T02:23:47.115046Z",
     "shell.execute_reply.started": "2023-02-24T02:23:47.109226Z"
    },
    "papermill": {
     "duration": 0.031268,
     "end_time": "2021-07-31T09:04:15.421352",
     "exception": false,
     "start_time": "2021-07-31T09:04:15.390084",
     "status": "completed"
    },
    "tags": []
   },
   "outputs": [],
   "source": [
    "from torch.utils.data import DataLoader # 데이터 로더 클래스\n",
    "\n",
    "loader_train = DataLoader(dataset=dataset_train, batch_size=32, shuffle=True)\n",
    "loader_valid = DataLoader(dataset=dataset_valid, batch_size=32, shuffle=False)"
   ]
  },
  {
   "cell_type": "markdown",
   "metadata": {
    "papermill": {
     "duration": 0.024184,
     "end_time": "2021-07-31T09:04:15.469857",
     "exception": false,
     "start_time": "2021-07-31T09:04:15.445673",
     "status": "completed"
    },
    "tags": []
   },
   "source": [
    "## 11.3.3 모델 생성"
   ]
  },
  {
   "cell_type": "code",
   "execution_count": 12,
   "metadata": {
    "_uuid": "0a2d5600bc2eb915ec0bdf5b52ba11e25096f7d0",
    "execution": {
     "iopub.execute_input": "2023-02-24T02:23:47.119034Z",
     "iopub.status.busy": "2023-02-24T02:23:47.118847Z",
     "iopub.status.idle": "2023-02-24T02:23:47.127088Z",
     "shell.execute_reply": "2023-02-24T02:23:47.126185Z",
     "shell.execute_reply.started": "2023-02-24T02:23:47.119014Z"
    },
    "papermill": {
     "duration": 0.035021,
     "end_time": "2021-07-31T09:04:15.529256",
     "exception": false,
     "start_time": "2021-07-31T09:04:15.494235",
     "status": "completed"
    },
    "tags": []
   },
   "outputs": [],
   "source": [
    "import torch.nn as nn # 신경망 모듈\n",
    "import torch.nn.functional as F # 신경망 모듈에서 자주 사용되는 함수\n",
    "\n",
    "class Model(nn.Module):\n",
    "    # 신경망 계층 정의 \n",
    "    def __init__(self):\n",
    "        super().__init__() # 상속받은 nn.Module의 __init__() 메서드 호출\n",
    "        \n",
    "        # 첫 번째 합성곱 계층 \n",
    "        self.conv1 = nn.Conv2d(in_channels=3, out_channels=32, \n",
    "                               kernel_size=3, padding=2) \n",
    "        # 두 번째 합성곱 계층 \n",
    "        self.conv2 = nn.Conv2d(in_channels=32, out_channels=64, \n",
    "                               kernel_size=3, padding=2) \n",
    "        # 최대 풀링 계층 \n",
    "        self.max_pool = nn.MaxPool2d(kernel_size=2) \n",
    "        # 평균 풀링 계층 \n",
    "        self.avg_pool = nn.AvgPool2d(kernel_size=2) \n",
    "        # 전결합 계층 \n",
    "        self.fc = nn.Linear(in_features=64 * 4 * 4, out_features=2)\n",
    "        \n",
    "    # 순전파 출력 정의 \n",
    "    def forward(self, x):\n",
    "        x = self.max_pool(F.relu(self.conv1(x)))\n",
    "        x = self.max_pool(F.relu(self.conv2(x)))\n",
    "        x = self.avg_pool(x)\n",
    "        x = x.view(-1, 64 * 4 * 4) # 평탄화\n",
    "        x = self.fc(x)\n",
    "        return x"
   ]
  },
  {
   "cell_type": "code",
   "execution_count": 14,
   "metadata": {
    "_cell_guid": "79c7e3d0-c299-4dcb-8224-4455121ee9b0",
    "_uuid": "d629ff2d2480ee46fbb7e2d37f6b5fab8052498a",
    "execution": {
     "iopub.execute_input": "2023-02-24T02:23:47.141371Z",
     "iopub.status.busy": "2023-02-24T02:23:47.141093Z",
     "iopub.status.idle": "2023-02-24T02:23:52.286324Z",
     "shell.execute_reply": "2023-02-24T02:23:52.285603Z",
     "shell.execute_reply.started": "2023-02-24T02:23:47.141317Z"
    },
    "papermill": {
     "duration": 4.045691,
     "end_time": "2021-07-31T09:04:19.653952",
     "exception": false,
     "start_time": "2021-07-31T09:04:15.608261",
     "status": "completed"
    },
    "tags": []
   },
   "outputs": [
    {
     "data": {
      "text/plain": [
       "Model(\n",
       "  (conv1): Conv2d(3, 32, kernel_size=(3, 3), stride=(1, 1), padding=(2, 2))\n",
       "  (conv2): Conv2d(32, 64, kernel_size=(3, 3), stride=(1, 1), padding=(2, 2))\n",
       "  (max_pool): MaxPool2d(kernel_size=2, stride=2, padding=0, dilation=1, ceil_mode=False)\n",
       "  (avg_pool): AvgPool2d(kernel_size=2, stride=2, padding=0)\n",
       "  (fc): Linear(in_features=1024, out_features=2, bias=True)\n",
       ")"
      ]
     },
     "execution_count": 14,
     "metadata": {},
     "output_type": "execute_result"
    }
   ],
   "source": [
    "model = Model().to(device)\n",
    "\n",
    "model"
   ]
  },
  {
   "cell_type": "markdown",
   "metadata": {
    "papermill": {
     "duration": 0.025337,
     "end_time": "2021-07-31T09:04:19.704867",
     "exception": false,
     "start_time": "2021-07-31T09:04:19.67953",
     "status": "completed"
    },
    "tags": []
   },
   "source": [
    "## 11.3.4 모델 훈련"
   ]
  },
  {
   "cell_type": "markdown",
   "metadata": {
    "papermill": {
     "duration": 0.024801,
     "end_time": "2021-07-31T09:04:19.754921",
     "exception": false,
     "start_time": "2021-07-31T09:04:19.73012",
     "status": "completed"
    },
    "tags": []
   },
   "source": [
    "### 손실 함수 설정"
   ]
  },
  {
   "cell_type": "code",
   "execution_count": 15,
   "metadata": {
    "execution": {
     "iopub.execute_input": "2023-02-24T02:23:52.287839Z",
     "iopub.status.busy": "2023-02-24T02:23:52.287552Z",
     "iopub.status.idle": "2023-02-24T02:23:52.292646Z",
     "shell.execute_reply": "2023-02-24T02:23:52.291822Z",
     "shell.execute_reply.started": "2023-02-24T02:23:52.287802Z"
    },
    "papermill": {
     "duration": 0.031975,
     "end_time": "2021-07-31T09:04:19.811981",
     "exception": false,
     "start_time": "2021-07-31T09:04:19.780006",
     "status": "completed"
    },
    "tags": []
   },
   "outputs": [],
   "source": [
    "# 손실함수\n",
    "criterion = nn.CrossEntropyLoss()"
   ]
  },
  {
   "cell_type": "markdown",
   "metadata": {},
   "source": [
    "### 옵티마이저 설정"
   ]
  },
  {
   "cell_type": "code",
   "execution_count": 16,
   "metadata": {
    "_uuid": "fceb2929d8750acb2de745cd9ff3d2d458820df8",
    "execution": {
     "iopub.execute_input": "2023-02-24T02:23:52.294445Z",
     "iopub.status.busy": "2023-02-24T02:23:52.294092Z",
     "iopub.status.idle": "2023-02-24T02:23:52.307335Z",
     "shell.execute_reply": "2023-02-24T02:23:52.306547Z",
     "shell.execute_reply.started": "2023-02-24T02:23:52.294406Z"
    },
    "papermill": {
     "duration": 0.032556,
     "end_time": "2021-07-31T09:04:19.870162",
     "exception": false,
     "start_time": "2021-07-31T09:04:19.837606",
     "status": "completed"
    },
    "tags": []
   },
   "outputs": [],
   "source": [
    "# 옵티마이저\n",
    "optimizer = torch.optim.SGD(model.parameters(), lr=0.01)"
   ]
  },
  {
   "cell_type": "markdown",
   "metadata": {
    "papermill": {
     "duration": 0.024667,
     "end_time": "2021-07-31T09:04:19.91994",
     "exception": false,
     "start_time": "2021-07-31T09:04:19.895273",
     "status": "completed"
    },
    "tags": []
   },
   "source": [
    "### 모델 훈련"
   ]
  },
  {
   "cell_type": "code",
   "execution_count": 17,
   "metadata": {
    "execution": {
     "iopub.execute_input": "2023-02-24T02:23:52.308801Z",
     "iopub.status.busy": "2023-02-24T02:23:52.308529Z",
     "iopub.status.idle": "2023-02-24T02:23:52.319975Z",
     "shell.execute_reply": "2023-02-24T02:23:52.319137Z",
     "shell.execute_reply.started": "2023-02-24T02:23:52.308768Z"
    },
    "papermill": {
     "duration": 0.033266,
     "end_time": "2021-07-31T09:04:19.977822",
     "exception": false,
     "start_time": "2021-07-31T09:04:19.944556",
     "status": "completed"
    },
    "tags": []
   },
   "outputs": [
    {
     "data": {
      "text/plain": [
       "438"
      ]
     },
     "execution_count": 17,
     "metadata": {},
     "output_type": "execute_result"
    }
   ],
   "source": [
    "import math\n",
    "\n",
    "math.ceil(len(train) / 32)"
   ]
  },
  {
   "cell_type": "code",
   "execution_count": 18,
   "metadata": {
    "execution": {
     "iopub.execute_input": "2023-02-24T02:23:52.321576Z",
     "iopub.status.busy": "2023-02-24T02:23:52.321270Z",
     "iopub.status.idle": "2023-02-24T02:23:52.331460Z",
     "shell.execute_reply": "2023-02-24T02:23:52.330597Z",
     "shell.execute_reply.started": "2023-02-24T02:23:52.321544Z"
    },
    "papermill": {
     "duration": 0.032504,
     "end_time": "2021-07-31T09:04:20.035665",
     "exception": false,
     "start_time": "2021-07-31T09:04:20.003161",
     "status": "completed"
    },
    "tags": []
   },
   "outputs": [
    {
     "data": {
      "text/plain": [
       "438"
      ]
     },
     "execution_count": 18,
     "metadata": {},
     "output_type": "execute_result"
    }
   ],
   "source": [
    "len(loader_train)"
   ]
  },
  {
   "cell_type": "code",
   "execution_count": 19,
   "metadata": {
    "_uuid": "2c37417ae6b62ab4551bc8a888916ca1e591d284",
    "execution": {
     "iopub.execute_input": "2023-02-24T02:23:52.333319Z",
     "iopub.status.busy": "2023-02-24T02:23:52.332997Z",
     "iopub.status.idle": "2023-02-24T02:24:49.038155Z",
     "shell.execute_reply": "2023-02-24T02:24:49.036295Z",
     "shell.execute_reply.started": "2023-02-24T02:23:52.333288Z"
    },
    "papermill": {
     "duration": 75.43957,
     "end_time": "2021-07-31T09:05:35.500612",
     "exception": false,
     "start_time": "2021-07-31T09:04:20.061042",
     "status": "completed"
    },
    "tags": []
   },
   "outputs": [
    {
     "name": "stdout",
     "output_type": "stream",
     "text": [
      "에폭 [1/10] - 손실값: 0.5307\n",
      "에폭 [2/10] - 손실값: 0.3762\n",
      "에폭 [3/10] - 손실값: 0.2515\n",
      "에폭 [4/10] - 손실값: 0.2112\n",
      "에폭 [5/10] - 손실값: 0.1894\n",
      "에폭 [6/10] - 손실값: 0.1637\n",
      "에폭 [7/10] - 손실값: 0.1581\n",
      "에폭 [8/10] - 손실값: 0.1489\n",
      "에폭 [9/10] - 손실값: 0.1379\n",
      "에폭 [10/10] - 손실값: 0.1372\n"
     ]
    }
   ],
   "source": [
    "epochs = 10 # 총 에폭\n",
    "# 총 에폭만큼 반복\n",
    "for epoch in range(epochs):\n",
    "    epoch_loss = 0 # 에폭별 손실값 초기화\n",
    "    \n",
    "    # '반복 횟수'만큼 반복 \n",
    "    for images, labels in loader_train:\n",
    "        # 이미지, 레이블 데이터 미니배치를 장비에 할당 \n",
    "        images = images.to(device)\n",
    "        labels = labels.to(device)\n",
    "        \n",
    "        # 옵티마이저 내 기울기 초기화\n",
    "        optimizer.zero_grad()\n",
    "        # 순전파 : 이미지 데이터를 신경망 모델의 입력값으로 사용해 출력값 계산\n",
    "        outputs = model(images)\n",
    "        # 손실 함수를 활용해 outputs와 labels의 손실값 계산\n",
    "        loss = criterion(outputs, labels)\n",
    "        # 현재 배치에서의 손실 추가\n",
    "        epoch_loss += loss.item() \n",
    "        # 역전파 수행\n",
    "        loss.backward()\n",
    "        # 가중치 갱신\n",
    "        optimizer.step()\n",
    "        \n",
    "    # 훈련 데이터 손실값 출력\n",
    "    print(f'에폭 [{epoch+1}/{epochs}] - 손실값: {epoch_loss/len(loader_train):.4f}')"
   ]
  },
  {
   "cell_type": "markdown",
   "metadata": {
    "papermill": {
     "duration": 0.028295,
     "end_time": "2021-07-31T09:05:35.557825",
     "exception": false,
     "start_time": "2021-07-31T09:05:35.52953",
     "status": "completed"
    },
    "tags": []
   },
   "source": [
    "## 11.3.5 성능 검증"
   ]
  },
  {
   "cell_type": "code",
   "execution_count": 20,
   "metadata": {
    "execution": {
     "iopub.execute_input": "2023-02-24T02:24:49.039746Z",
     "iopub.status.busy": "2023-02-24T02:24:49.039445Z",
     "iopub.status.idle": "2023-02-24T02:24:49.044145Z",
     "shell.execute_reply": "2023-02-24T02:24:49.043441Z",
     "shell.execute_reply.started": "2023-02-24T02:24:49.039698Z"
    }
   },
   "outputs": [],
   "source": [
    "from sklearn.metrics import roc_auc_score # ROC AUC 점수 계산 함수 임포트\n",
    "\n",
    "# 실제값과 예측 확률값을 담을 리스트 초기화\n",
    "true_list = []\n",
    "preds_list = []"
   ]
  },
  {
   "cell_type": "code",
   "execution_count": 21,
   "metadata": {
    "execution": {
     "iopub.execute_input": "2023-02-24T02:24:49.046381Z",
     "iopub.status.busy": "2023-02-24T02:24:49.045596Z",
     "iopub.status.idle": "2023-02-24T02:24:49.619173Z",
     "shell.execute_reply": "2023-02-24T02:24:49.618329Z",
     "shell.execute_reply.started": "2023-02-24T02:24:49.046345Z"
    },
    "papermill": {
     "duration": 0.578283,
     "end_time": "2021-07-31T09:05:36.164207",
     "exception": false,
     "start_time": "2021-07-31T09:05:35.585924",
     "status": "completed"
    },
    "tags": []
   },
   "outputs": [
    {
     "name": "stdout",
     "output_type": "stream",
     "text": [
      "검증 데이터 ROC AUC : 0.9891\n"
     ]
    }
   ],
   "source": [
    "model.eval() # 모델을 평가 상태로 설정 \n",
    "\n",
    "with torch.no_grad(): # 기울기 계산 비활성화\n",
    "    for images, labels in loader_valid:\n",
    "        # 이미지, 레이블 데이터 미니배치를 장비에 할당 \n",
    "        images = images.to(device)\n",
    "        labels = labels.to(device) \n",
    "        \n",
    "        # 순전파 : 이미지 데이터를 신경망 모델의 입력값으로 사용해 출력값 계산\n",
    "        outputs = model(images)\n",
    "        preds = torch.softmax(outputs.cpu(), dim=1)[:, 1] # 예측 확률  \n",
    "        true = labels.cpu() # 실제값 \n",
    "        # 예측 확률과 실제값을 리스트에 추가\n",
    "        preds_list.extend(preds)\n",
    "        true_list.extend(true)\n",
    "        \n",
    "# 검증 데이터 ROC AUC 점수 계산\n",
    "print(f'검증 데이터 ROC AUC : {roc_auc_score(true_list, preds_list):.4f}')"
   ]
  },
  {
   "cell_type": "markdown",
   "metadata": {},
   "source": [
    "## 11.3.6 예측 및 결과 제출"
   ]
  },
  {
   "cell_type": "code",
   "execution_count": 22,
   "metadata": {
    "_uuid": "870413a60281e0c4115fbc7cf192508e15a9e269",
    "execution": {
     "iopub.execute_input": "2023-02-24T02:24:49.621867Z",
     "iopub.status.busy": "2023-02-24T02:24:49.620372Z",
     "iopub.status.idle": "2023-02-24T02:24:49.626367Z",
     "shell.execute_reply": "2023-02-24T02:24:49.625577Z",
     "shell.execute_reply.started": "2023-02-24T02:24:49.621829Z"
    },
    "papermill": {
     "duration": 0.038481,
     "end_time": "2021-07-31T09:05:36.231723",
     "exception": false,
     "start_time": "2021-07-31T09:05:36.193242",
     "status": "completed"
    },
    "tags": []
   },
   "outputs": [],
   "source": [
    "dataset_test = ImageDataset(df=submission, img_dir='test/', transform=transform)\n",
    "loader_test = DataLoader(dataset=dataset_test, batch_size=32, shuffle=False)"
   ]
  },
  {
   "cell_type": "markdown",
   "metadata": {},
   "source": [
    "### 예측"
   ]
  },
  {
   "cell_type": "code",
   "execution_count": 23,
   "metadata": {
    "execution": {
     "iopub.execute_input": "2023-02-24T02:24:49.628065Z",
     "iopub.status.busy": "2023-02-24T02:24:49.627756Z",
     "iopub.status.idle": "2023-02-24T02:24:50.814605Z",
     "shell.execute_reply": "2023-02-24T02:24:50.813827Z",
     "shell.execute_reply.started": "2023-02-24T02:24:49.628032Z"
    },
    "papermill": {
     "duration": 1.147453,
     "end_time": "2021-07-31T09:05:37.407538",
     "exception": false,
     "start_time": "2021-07-31T09:05:36.260085",
     "status": "completed"
    },
    "tags": []
   },
   "outputs": [],
   "source": [
    "model.eval() # 모델을 평가 상태로 설정\n",
    "\n",
    "preds = [] # 타깃 예측값 저장용 리스트 초기화\n",
    "\n",
    "with torch.no_grad(): # 기울기 계산 비활성화\n",
    "    for images, _ in loader_test:\n",
    "        # 이미지 데이터 미니배치를 장비에 할당\n",
    "        images = images.to(device)\n",
    "        \n",
    "        # 순전파 : 이미지 데이터를 신경망 모델의 입력값으로 사용해 출력값 계산\n",
    "        outputs = model(images)\n",
    "        # 타깃값이 1일 확률(예측값)\n",
    "        preds_part = torch.softmax(outputs.cpu(), dim=1)[:, 1].tolist()\n",
    "        # preds에 preds_part 이어붙이기\n",
    "        preds.extend(preds_part)"
   ]
  },
  {
   "cell_type": "markdown",
   "metadata": {
    "papermill": {
     "duration": 0.028225,
     "end_time": "2021-07-31T09:05:37.464303",
     "exception": false,
     "start_time": "2021-07-31T09:05:37.436078",
     "status": "completed"
    },
    "tags": []
   },
   "source": [
    "### 결과 제출"
   ]
  },
  {
   "cell_type": "code",
   "execution_count": 24,
   "metadata": {
    "execution": {
     "iopub.execute_input": "2023-02-24T02:24:50.816277Z",
     "iopub.status.busy": "2023-02-24T02:24:50.815994Z",
     "iopub.status.idle": "2023-02-24T02:24:50.834803Z",
     "shell.execute_reply": "2023-02-24T02:24:50.834178Z",
     "shell.execute_reply.started": "2023-02-24T02:24:50.816240Z"
    },
    "papermill": {
     "duration": 0.057542,
     "end_time": "2021-07-31T09:05:37.550214",
     "exception": false,
     "start_time": "2021-07-31T09:05:37.492672",
     "status": "completed"
    },
    "tags": []
   },
   "outputs": [],
   "source": [
    "submission['has_cactus'] = preds\n",
    "submission.to_csv('submission.csv', index=False)"
   ]
  },
  {
   "cell_type": "code",
   "execution_count": 25,
   "metadata": {
    "execution": {
     "iopub.execute_input": "2023-02-24T02:24:50.836134Z",
     "iopub.status.busy": "2023-02-24T02:24:50.835867Z",
     "iopub.status.idle": "2023-02-24T02:24:51.480361Z",
     "shell.execute_reply": "2023-02-24T02:24:51.479550Z",
     "shell.execute_reply.started": "2023-02-24T02:24:50.836097Z"
    },
    "papermill": {
     "duration": 0.687638,
     "end_time": "2021-07-31T09:05:38.266879",
     "exception": false,
     "start_time": "2021-07-31T09:05:37.579241",
     "status": "completed"
    },
    "tags": []
   },
   "outputs": [],
   "source": [
    "import shutil\n",
    "\n",
    "shutil.rmtree('./train')\n",
    "shutil.rmtree('./test')"
   ]
  },
  {
   "cell_type": "code",
   "execution_count": null,
   "metadata": {},
   "outputs": [],
   "source": []
  },
  {
   "cell_type": "code",
   "execution_count": null,
   "metadata": {},
   "outputs": [],
   "source": []
  }
 ],
 "metadata": {
  "kernelspec": {
   "display_name": "py39",
   "language": "python",
   "name": "py39"
  },
  "language_info": {
   "codemirror_mode": {
    "name": "ipython",
    "version": 3
   },
   "file_extension": ".py",
   "mimetype": "text/x-python",
   "name": "python",
   "nbconvert_exporter": "python",
   "pygments_lexer": "ipython3",
   "version": "3.9.15"
  }
 },
 "nbformat": 4,
 "nbformat_minor": 4
}
